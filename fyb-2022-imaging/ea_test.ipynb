{
 "cells": [
  {
   "cell_type": "code",
   "execution_count": 7,
   "metadata": {},
   "outputs": [
    {
     "ename": "TypeError",
     "evalue": "delta_e_cie2000() missing 2 required positional arguments: 'color1' and 'color2'",
     "output_type": "error",
     "traceback": [
      "\u001b[0;31m---------------------------------------------------------------------------\u001b[0m",
      "\u001b[0;31mTypeError\u001b[0m                                 Traceback (most recent call last)",
      "\u001b[0;32m/var/folders/0t/t2ckpkv53dzfqcnqjz68tsh00000gn/T/ipykernel_72973/4077345990.py\u001b[0m in \u001b[0;36m<module>\u001b[0;34m\u001b[0m\n\u001b[1;32m     23\u001b[0m \u001b[0;34m\u001b[0m\u001b[0m\n\u001b[1;32m     24\u001b[0m \u001b[0;34m\u001b[0m\u001b[0m\n\u001b[0;32m---> 25\u001b[0;31m \u001b[0mdelta_e_cie2000\u001b[0m\u001b[0;34m(\u001b[0m\u001b[0;34m)\u001b[0m\u001b[0;34m\u001b[0m\u001b[0;34m\u001b[0m\u001b[0m\n\u001b[0m",
      "\u001b[0;31mTypeError\u001b[0m: delta_e_cie2000() missing 2 required positional arguments: 'color1' and 'color2'"
     ]
    }
   ],
   "source": [
    "\n",
    "import cv2\n",
    "import csv\n",
    "import pandas as pd\n",
    "import numpy as np\n",
    "from PIL import Image\n",
    "import matplotlib.pyplot as plt\n",
    "from matplotlib.offsetbox import AnchoredText\n",
    "import ast\n",
    "import groupXY_functions as util\n",
    "import skimage.morphology as morphology\n",
    "from skimage.morphology import opening\n",
    "from scipy import ndimage\n",
    "import scipy\n",
    "\n",
    "import path\n",
    "import imutils\n",
    "from tqdm import tqdm\n",
    "from skimage.measure import label as sklabel\n",
    "\n",
    "from colormath.color_objects import sRGBColor, LabColor\n",
    "from colormath.color_conversions import convert_color\n",
    "from colormath.color_diff import delta_e_cie2000\n",
    "\n"
   ]
  },
  {
   "cell_type": "code",
   "execution_count": 2,
   "metadata": {},
   "outputs": [],
   "source": [
    "def rotate_bound(image ,angle):\n",
    "    # grab the dimensions of the image and then determine the\n",
    "    # center\n",
    "    (h, w) = image.shape[:2]\n",
    "    (cX, cY) = util.middle(image)\n",
    "\n",
    "    # grab the rotation matrix (applying the negative of the\n",
    "    # angle to rotate clockwise), then grab the sine and cosine\n",
    "    # (i.e., the rotation components of the matrix)\n",
    "    M = cv2.getRotationMatrix2D((cX, cY), -angle, 1.0)\n",
    "    cos = np.abs(M[0, 0])\n",
    "    sin = np.abs(M[0, 1])\n",
    "\n",
    "    # compute the new bounding dimensions of the image\n",
    "    nW = int((h * sin) + (w * cos))\n",
    "    nH = int((h * cos) + (w * sin))\n",
    "\n",
    "    # adjust the rotation matrix to take into account translation\n",
    "    M[0, 2] += (nW / 2) - cX\n",
    "    M[1, 2] += (nH / 2) - cY\n",
    "\n",
    "    # perform the actual rotation and return the image\n",
    "    return cv2.warpAffine(image, M, (nW, nH))\n"
   ]
  },
  {
   "cell_type": "code",
   "execution_count": 3,
   "metadata": {},
   "outputs": [],
   "source": [
    "def sym_detect(img):\n",
    "    img[img > 0] = 255\n",
    "    center = util.middle(img)\n",
    "    first_half = img[:,:int(center[0])]\n",
    "    second_half = img[:,int(center[0]):-1]\n",
    "    _, first_size = first_half.shape\n",
    "    _, second_size = second_half.shape\n",
    "    if first_size > second_size:\n",
    "        padd_rows = first_size-second_size\n",
    "        second_half = np.pad(second_half,((0,0),(0,padd_rows)),\"constant\",constant_values=(0))\n",
    "    elif first_size < second_size:\n",
    "        padd_rows = abs(first_size-second_size)\n",
    "        first_half = np.pad(first_half,((0,0),(padd_rows,0)),\"constant\",constant_values=0)\n",
    "    #cv2.imshow(\"first_half\", first_half)\n",
    "    #cv2.imshow(\"second_half\", second_half)\n",
    "    flipped = cv2.flip(first_half, 1)\n",
    "    #cv2.imshow(\"flipped 1\", flipped )\n",
    "    sum_mask = np.array(flipped) ^ np.array(second_half)\n",
    "    sum_mask[sum_mask > 0]= 1\n",
    "    #cv2.imshow(\"sum_mask\", sum_mask )\n",
    "    return np.sum(sum_mask)"
   ]
  },
  {
   "cell_type": "code",
   "execution_count": 4,
   "metadata": {},
   "outputs": [],
   "source": [
    "\n",
    "def all_deg(thresh):\n",
    "    list_ = []\n",
    "    last_sym = 100000000000\n",
    "    for i in tqdm(range(0, 180)):\n",
    "        rotated_image = rotate_bound(thresh, i)\n",
    "        sym = sym_detect(rotated_image)\n",
    "        list_.append(sym)\n",
    "        if sym < last_sym:\n",
    "            last_sym = sym\n",
    "            deg = i\n",
    "    return (last_sym, np.average(list_))"
   ]
  },
  {
   "cell_type": "code",
   "execution_count": null,
   "metadata": {},
   "outputs": [],
   "source": []
  },
  {
   "cell_type": "code",
   "execution_count": 5,
   "metadata": {},
   "outputs": [],
   "source": [
    "def crop(img, cropped = []):\n",
    "    if len(cropped) != 0:\n",
    "        img = img[cropped[0]:cropped[1],cropped[2]:cropped[3]]\n",
    "    return img"
   ]
  },
  {
   "cell_type": "code",
   "execution_count": null,
   "metadata": {},
   "outputs": [],
   "source": []
  },
  {
   "cell_type": "code",
   "execution_count": 6,
   "metadata": {},
   "outputs": [
    {
     "ename": "FileNotFoundError",
     "evalue": "[Errno 2] No such file or directory: 'out.csv'",
     "output_type": "error",
     "traceback": [
      "\u001b[0;31m---------------------------------------------------------------------------\u001b[0m",
      "\u001b[0;31mFileNotFoundError\u001b[0m                         Traceback (most recent call last)",
      "\u001b[0;32m/var/folders/0t/t2ckpkv53dzfqcnqjz68tsh00000gn/T/ipykernel_72973/2526431795.py\u001b[0m in \u001b[0;36m<module>\u001b[0;34m\u001b[0m\n\u001b[1;32m      1\u001b[0m \u001b[0mdf\u001b[0m \u001b[0;34m=\u001b[0m \u001b[0mpd\u001b[0m\u001b[0;34m.\u001b[0m\u001b[0mread_csv\u001b[0m\u001b[0;34m(\u001b[0m\u001b[0mpath\u001b[0m\u001b[0;34m.\u001b[0m\u001b[0mground_truth\u001b[0m\u001b[0;34m)\u001b[0m\u001b[0;34m\u001b[0m\u001b[0;34m\u001b[0m\u001b[0m\n\u001b[0;32m----> 2\u001b[0;31m \u001b[0mdf_out\u001b[0m \u001b[0;34m=\u001b[0m \u001b[0mpd\u001b[0m\u001b[0;34m.\u001b[0m\u001b[0mread_csv\u001b[0m\u001b[0;34m(\u001b[0m\u001b[0;34m\"out.csv\"\u001b[0m\u001b[0;34m)\u001b[0m\u001b[0;34m\u001b[0m\u001b[0;34m\u001b[0m\u001b[0m\n\u001b[0m\u001b[1;32m      3\u001b[0m \u001b[0mdf_out\u001b[0m\u001b[0;34m.\u001b[0m\u001b[0mat\u001b[0m\u001b[0;34m\u001b[0m\u001b[0;34m\u001b[0m\u001b[0m\n\u001b[1;32m      4\u001b[0m \u001b[0;34m\u001b[0m\u001b[0m\n\u001b[1;32m      5\u001b[0m \u001b[0;34m\u001b[0m\u001b[0m\n",
      "\u001b[0;32m~/opt/anaconda3/lib/python3.8/site-packages/pandas/util/_decorators.py\u001b[0m in \u001b[0;36mwrapper\u001b[0;34m(*args, **kwargs)\u001b[0m\n\u001b[1;32m    309\u001b[0m                     \u001b[0mstacklevel\u001b[0m\u001b[0;34m=\u001b[0m\u001b[0mstacklevel\u001b[0m\u001b[0;34m,\u001b[0m\u001b[0;34m\u001b[0m\u001b[0;34m\u001b[0m\u001b[0m\n\u001b[1;32m    310\u001b[0m                 )\n\u001b[0;32m--> 311\u001b[0;31m             \u001b[0;32mreturn\u001b[0m \u001b[0mfunc\u001b[0m\u001b[0;34m(\u001b[0m\u001b[0;34m*\u001b[0m\u001b[0margs\u001b[0m\u001b[0;34m,\u001b[0m \u001b[0;34m**\u001b[0m\u001b[0mkwargs\u001b[0m\u001b[0;34m)\u001b[0m\u001b[0;34m\u001b[0m\u001b[0;34m\u001b[0m\u001b[0m\n\u001b[0m\u001b[1;32m    312\u001b[0m \u001b[0;34m\u001b[0m\u001b[0m\n\u001b[1;32m    313\u001b[0m         \u001b[0;32mreturn\u001b[0m \u001b[0mwrapper\u001b[0m\u001b[0;34m\u001b[0m\u001b[0;34m\u001b[0m\u001b[0m\n",
      "\u001b[0;32m~/opt/anaconda3/lib/python3.8/site-packages/pandas/io/parsers/readers.py\u001b[0m in \u001b[0;36mread_csv\u001b[0;34m(filepath_or_buffer, sep, delimiter, header, names, index_col, usecols, squeeze, prefix, mangle_dupe_cols, dtype, engine, converters, true_values, false_values, skipinitialspace, skiprows, skipfooter, nrows, na_values, keep_default_na, na_filter, verbose, skip_blank_lines, parse_dates, infer_datetime_format, keep_date_col, date_parser, dayfirst, cache_dates, iterator, chunksize, compression, thousands, decimal, lineterminator, quotechar, quoting, doublequote, escapechar, comment, encoding, encoding_errors, dialect, error_bad_lines, warn_bad_lines, on_bad_lines, delim_whitespace, low_memory, memory_map, float_precision, storage_options)\u001b[0m\n\u001b[1;32m    584\u001b[0m     \u001b[0mkwds\u001b[0m\u001b[0;34m.\u001b[0m\u001b[0mupdate\u001b[0m\u001b[0;34m(\u001b[0m\u001b[0mkwds_defaults\u001b[0m\u001b[0;34m)\u001b[0m\u001b[0;34m\u001b[0m\u001b[0;34m\u001b[0m\u001b[0m\n\u001b[1;32m    585\u001b[0m \u001b[0;34m\u001b[0m\u001b[0m\n\u001b[0;32m--> 586\u001b[0;31m     \u001b[0;32mreturn\u001b[0m \u001b[0m_read\u001b[0m\u001b[0;34m(\u001b[0m\u001b[0mfilepath_or_buffer\u001b[0m\u001b[0;34m,\u001b[0m \u001b[0mkwds\u001b[0m\u001b[0;34m)\u001b[0m\u001b[0;34m\u001b[0m\u001b[0;34m\u001b[0m\u001b[0m\n\u001b[0m\u001b[1;32m    587\u001b[0m \u001b[0;34m\u001b[0m\u001b[0m\n\u001b[1;32m    588\u001b[0m \u001b[0;34m\u001b[0m\u001b[0m\n",
      "\u001b[0;32m~/opt/anaconda3/lib/python3.8/site-packages/pandas/io/parsers/readers.py\u001b[0m in \u001b[0;36m_read\u001b[0;34m(filepath_or_buffer, kwds)\u001b[0m\n\u001b[1;32m    480\u001b[0m \u001b[0;34m\u001b[0m\u001b[0m\n\u001b[1;32m    481\u001b[0m     \u001b[0;31m# Create the parser.\u001b[0m\u001b[0;34m\u001b[0m\u001b[0;34m\u001b[0m\u001b[0;34m\u001b[0m\u001b[0m\n\u001b[0;32m--> 482\u001b[0;31m     \u001b[0mparser\u001b[0m \u001b[0;34m=\u001b[0m \u001b[0mTextFileReader\u001b[0m\u001b[0;34m(\u001b[0m\u001b[0mfilepath_or_buffer\u001b[0m\u001b[0;34m,\u001b[0m \u001b[0;34m**\u001b[0m\u001b[0mkwds\u001b[0m\u001b[0;34m)\u001b[0m\u001b[0;34m\u001b[0m\u001b[0;34m\u001b[0m\u001b[0m\n\u001b[0m\u001b[1;32m    483\u001b[0m \u001b[0;34m\u001b[0m\u001b[0m\n\u001b[1;32m    484\u001b[0m     \u001b[0;32mif\u001b[0m \u001b[0mchunksize\u001b[0m \u001b[0;32mor\u001b[0m \u001b[0miterator\u001b[0m\u001b[0;34m:\u001b[0m\u001b[0;34m\u001b[0m\u001b[0;34m\u001b[0m\u001b[0m\n",
      "\u001b[0;32m~/opt/anaconda3/lib/python3.8/site-packages/pandas/io/parsers/readers.py\u001b[0m in \u001b[0;36m__init__\u001b[0;34m(self, f, engine, **kwds)\u001b[0m\n\u001b[1;32m    809\u001b[0m             \u001b[0mself\u001b[0m\u001b[0;34m.\u001b[0m\u001b[0moptions\u001b[0m\u001b[0;34m[\u001b[0m\u001b[0;34m\"has_index_names\"\u001b[0m\u001b[0;34m]\u001b[0m \u001b[0;34m=\u001b[0m \u001b[0mkwds\u001b[0m\u001b[0;34m[\u001b[0m\u001b[0;34m\"has_index_names\"\u001b[0m\u001b[0;34m]\u001b[0m\u001b[0;34m\u001b[0m\u001b[0;34m\u001b[0m\u001b[0m\n\u001b[1;32m    810\u001b[0m \u001b[0;34m\u001b[0m\u001b[0m\n\u001b[0;32m--> 811\u001b[0;31m         \u001b[0mself\u001b[0m\u001b[0;34m.\u001b[0m\u001b[0m_engine\u001b[0m \u001b[0;34m=\u001b[0m \u001b[0mself\u001b[0m\u001b[0;34m.\u001b[0m\u001b[0m_make_engine\u001b[0m\u001b[0;34m(\u001b[0m\u001b[0mself\u001b[0m\u001b[0;34m.\u001b[0m\u001b[0mengine\u001b[0m\u001b[0;34m)\u001b[0m\u001b[0;34m\u001b[0m\u001b[0;34m\u001b[0m\u001b[0m\n\u001b[0m\u001b[1;32m    812\u001b[0m \u001b[0;34m\u001b[0m\u001b[0m\n\u001b[1;32m    813\u001b[0m     \u001b[0;32mdef\u001b[0m \u001b[0mclose\u001b[0m\u001b[0;34m(\u001b[0m\u001b[0mself\u001b[0m\u001b[0;34m)\u001b[0m\u001b[0;34m:\u001b[0m\u001b[0;34m\u001b[0m\u001b[0;34m\u001b[0m\u001b[0m\n",
      "\u001b[0;32m~/opt/anaconda3/lib/python3.8/site-packages/pandas/io/parsers/readers.py\u001b[0m in \u001b[0;36m_make_engine\u001b[0;34m(self, engine)\u001b[0m\n\u001b[1;32m   1038\u001b[0m             )\n\u001b[1;32m   1039\u001b[0m         \u001b[0;31m# error: Too many arguments for \"ParserBase\"\u001b[0m\u001b[0;34m\u001b[0m\u001b[0;34m\u001b[0m\u001b[0;34m\u001b[0m\u001b[0m\n\u001b[0;32m-> 1040\u001b[0;31m         \u001b[0;32mreturn\u001b[0m \u001b[0mmapping\u001b[0m\u001b[0;34m[\u001b[0m\u001b[0mengine\u001b[0m\u001b[0;34m]\u001b[0m\u001b[0;34m(\u001b[0m\u001b[0mself\u001b[0m\u001b[0;34m.\u001b[0m\u001b[0mf\u001b[0m\u001b[0;34m,\u001b[0m \u001b[0;34m**\u001b[0m\u001b[0mself\u001b[0m\u001b[0;34m.\u001b[0m\u001b[0moptions\u001b[0m\u001b[0;34m)\u001b[0m  \u001b[0;31m# type: ignore[call-arg]\u001b[0m\u001b[0;34m\u001b[0m\u001b[0;34m\u001b[0m\u001b[0m\n\u001b[0m\u001b[1;32m   1041\u001b[0m \u001b[0;34m\u001b[0m\u001b[0m\n\u001b[1;32m   1042\u001b[0m     \u001b[0;32mdef\u001b[0m \u001b[0m_failover_to_python\u001b[0m\u001b[0;34m(\u001b[0m\u001b[0mself\u001b[0m\u001b[0;34m)\u001b[0m\u001b[0;34m:\u001b[0m\u001b[0;34m\u001b[0m\u001b[0;34m\u001b[0m\u001b[0m\n",
      "\u001b[0;32m~/opt/anaconda3/lib/python3.8/site-packages/pandas/io/parsers/c_parser_wrapper.py\u001b[0m in \u001b[0;36m__init__\u001b[0;34m(self, src, **kwds)\u001b[0m\n\u001b[1;32m     49\u001b[0m \u001b[0;34m\u001b[0m\u001b[0m\n\u001b[1;32m     50\u001b[0m         \u001b[0;31m# open handles\u001b[0m\u001b[0;34m\u001b[0m\u001b[0;34m\u001b[0m\u001b[0;34m\u001b[0m\u001b[0m\n\u001b[0;32m---> 51\u001b[0;31m         \u001b[0mself\u001b[0m\u001b[0;34m.\u001b[0m\u001b[0m_open_handles\u001b[0m\u001b[0;34m(\u001b[0m\u001b[0msrc\u001b[0m\u001b[0;34m,\u001b[0m \u001b[0mkwds\u001b[0m\u001b[0;34m)\u001b[0m\u001b[0;34m\u001b[0m\u001b[0;34m\u001b[0m\u001b[0m\n\u001b[0m\u001b[1;32m     52\u001b[0m         \u001b[0;32massert\u001b[0m \u001b[0mself\u001b[0m\u001b[0;34m.\u001b[0m\u001b[0mhandles\u001b[0m \u001b[0;32mis\u001b[0m \u001b[0;32mnot\u001b[0m \u001b[0;32mNone\u001b[0m\u001b[0;34m\u001b[0m\u001b[0;34m\u001b[0m\u001b[0m\n\u001b[1;32m     53\u001b[0m \u001b[0;34m\u001b[0m\u001b[0m\n",
      "\u001b[0;32m~/opt/anaconda3/lib/python3.8/site-packages/pandas/io/parsers/base_parser.py\u001b[0m in \u001b[0;36m_open_handles\u001b[0;34m(self, src, kwds)\u001b[0m\n\u001b[1;32m    220\u001b[0m         \u001b[0mLet\u001b[0m \u001b[0mthe\u001b[0m \u001b[0mreaders\u001b[0m \u001b[0mopen\u001b[0m \u001b[0mIOHandles\u001b[0m \u001b[0mafter\u001b[0m \u001b[0mthey\u001b[0m \u001b[0mare\u001b[0m \u001b[0mdone\u001b[0m \u001b[0;32mwith\u001b[0m \u001b[0mtheir\u001b[0m \u001b[0mpotential\u001b[0m \u001b[0mraises\u001b[0m\u001b[0;34m.\u001b[0m\u001b[0;34m\u001b[0m\u001b[0;34m\u001b[0m\u001b[0m\n\u001b[1;32m    221\u001b[0m         \"\"\"\n\u001b[0;32m--> 222\u001b[0;31m         self.handles = get_handle(\n\u001b[0m\u001b[1;32m    223\u001b[0m             \u001b[0msrc\u001b[0m\u001b[0;34m,\u001b[0m\u001b[0;34m\u001b[0m\u001b[0;34m\u001b[0m\u001b[0m\n\u001b[1;32m    224\u001b[0m             \u001b[0;34m\"r\"\u001b[0m\u001b[0;34m,\u001b[0m\u001b[0;34m\u001b[0m\u001b[0;34m\u001b[0m\u001b[0m\n",
      "\u001b[0;32m~/opt/anaconda3/lib/python3.8/site-packages/pandas/io/common.py\u001b[0m in \u001b[0;36mget_handle\u001b[0;34m(path_or_buf, mode, encoding, compression, memory_map, is_text, errors, storage_options)\u001b[0m\n\u001b[1;32m    700\u001b[0m         \u001b[0;32mif\u001b[0m \u001b[0mioargs\u001b[0m\u001b[0;34m.\u001b[0m\u001b[0mencoding\u001b[0m \u001b[0;32mand\u001b[0m \u001b[0;34m\"b\"\u001b[0m \u001b[0;32mnot\u001b[0m \u001b[0;32min\u001b[0m \u001b[0mioargs\u001b[0m\u001b[0;34m.\u001b[0m\u001b[0mmode\u001b[0m\u001b[0;34m:\u001b[0m\u001b[0;34m\u001b[0m\u001b[0;34m\u001b[0m\u001b[0m\n\u001b[1;32m    701\u001b[0m             \u001b[0;31m# Encoding\u001b[0m\u001b[0;34m\u001b[0m\u001b[0;34m\u001b[0m\u001b[0;34m\u001b[0m\u001b[0m\n\u001b[0;32m--> 702\u001b[0;31m             handle = open(\n\u001b[0m\u001b[1;32m    703\u001b[0m                 \u001b[0mhandle\u001b[0m\u001b[0;34m,\u001b[0m\u001b[0;34m\u001b[0m\u001b[0;34m\u001b[0m\u001b[0m\n\u001b[1;32m    704\u001b[0m                 \u001b[0mioargs\u001b[0m\u001b[0;34m.\u001b[0m\u001b[0mmode\u001b[0m\u001b[0;34m,\u001b[0m\u001b[0;34m\u001b[0m\u001b[0;34m\u001b[0m\u001b[0m\n",
      "\u001b[0;31mFileNotFoundError\u001b[0m: [Errno 2] No such file or directory: 'out.csv'"
     ]
    }
   ],
   "source": [
    "\n",
    "df = pd.read_csv(path.ground_truth)\n",
    "df_out = pd.read_csv(\"out.csv\")\n",
    "df_out.at\n",
    "\n",
    "\n",
    "thresh = cv2.imread(f'data/example_segmentation/ISIC_0001769_segmentation.png',0)\n",
    "a,b,c,d = util.extract_bboxes(thresh)\n",
    "\n",
    "cropThresh = thresh[a:b,c:d]\n",
    "#cv2.imshow(\"test\", cropThresh)\n",
    "#cv2.imshow(\"rotated\", rotate_bound(cropThresh,23))\n",
    "\n",
    "_,th1 = cv2.threshold(rotate_bound(cropThresh,23),100,255,cv2.THRESH_BINARY)\n",
    "center = [np.average(indices) for indices in np.where(th1 >= 255)]\n",
    "print(center)\n",
    "fig, ax = plt.subplots(ncols=2)\n",
    "\n",
    "ax[0].imshow(cropThresh)\n",
    "ax[1].imshow(rotate_bound(cropThresh,23))\n",
    "\n",
    "print(all_deg(cropThresh))\n"
   ]
  },
  {
   "cell_type": "code",
   "execution_count": null,
   "metadata": {},
   "outputs": [],
   "source": [
    "#df_out1 = df['image_id']\n",
    "#df_out1['symmetry_min'] = None\n",
    "#for index, line in df.iterrows():\n",
    "#    id_ = line['image_id'] \n",
    "#    thresh = cv2.imread(path.segmentation+f'{id_}_segmentation.png',0)\n",
    "#    a,b,c,d = util.extract_bboxes(thresh)\n",
    "#    cropThresh = thresh[a:b,c:d]\n",
    "#    df_out1.at[index,'symmetry_min'] = all_deg(cropThresh)\n",
    "\n",
    "#df_out1.to_csv('sym.csv')\n",
    "\n",
    "thresh = cv2.imread(f'data/symmetry-demo-images/triangle-mask.png',0)\n",
    "a,b,c,d = util.extract_bboxes(thresh)\n",
    "\n",
    "cropThresh = thresh[a:b,c:d]\n",
    "\n",
    "print(all_deg(cropThresh))\n",
    "\n"
   ]
  },
  {
   "cell_type": "code",
   "execution_count": null,
   "metadata": {},
   "outputs": [],
   "source": [
    "image1 = \"ISIC_0003462\"\n",
    "mask1=plt.imread(f'data/example_segmentation/{image1}_segmentation.png')\n",
    "im1 = plt.imread(f'data/red25/{image1}.jpg')\n",
    "image2 = \"ISIC_0003539\"\n",
    "mask2=plt.imread(f'data/example_segmentation/{image2}_segmentation.png')\n",
    "im2 = plt.imread(f'data/red25/{image2}.jpg')"
   ]
  },
  {
   "cell_type": "code",
   "execution_count": null,
   "metadata": {},
   "outputs": [],
   "source": [
    "\n",
    "def extract_mask_roi(image, mask, magnitude):\n",
    "    '''\n",
    "    Function to extract the region of interest from the image and mask.\n",
    "    The input is the original image and the original mask\n",
    "    The function returns the region of interest as a new numpy array.\n",
    "    '''\n",
    "    # Get region of interest from original mask\n",
    "    # Replace the non-lesion pixels\n",
    "    im_roi = image.copy()\n",
    "    # If the mask is black at a pixel, set image color to black at that same pixel\n",
    "    im_roi[mask==0] = 0\n",
    "\n",
    "    # Turn the region of interest into gray\n",
    "    im_gray = cv2.cvtColor(im_roi, cv2.COLOR_BGR2GRAY)\n",
    "\n",
    "    # Create our custom mask with pixels that are lower than 95\n",
    "    custom_mask = im_gray < magnitude\n",
    "    # Generate a flask disk-shaped footprint\n",
    "    struct_el = morphology.disk(10)\n",
    "\n",
    "    # Apply the footprint to the custom mask\n",
    "    opened = opening(custom_mask, struct_el)\n",
    "\n",
    "    # Show only the opened mask on the entire image\n",
    "    im_roi_opened = im_roi.copy()\n",
    "    im_roi_opened[opened==0] = 0\n",
    "    \n",
    "\n",
    "    return im_roi_opened, custom_mask"
   ]
  },
  {
   "cell_type": "code",
   "execution_count": null,
   "metadata": {},
   "outputs": [],
   "source": [
    "im_roi_opened,_ = extract_mask_roi(im1, mask1,140)\n",
    "plt.imshow(im_roi_opened)"
   ]
  },
  {
   "cell_type": "code",
   "execution_count": null,
   "metadata": {},
   "outputs": [],
   "source": [
    "im_roi_opened, _ = extract_mask_roi(im2, mask2,80)\n",
    "plt.imshow(_)"
   ]
  },
  {
   "cell_type": "code",
   "execution_count": null,
   "metadata": {},
   "outputs": [],
   "source": [
    "def boundry_check(image,mask):\n",
    "    magnitude_list = [80,100]\n",
    "    boundry_unfiltered, boundry_mask = extract_mask_roi(image,mask, magnitude_list[1])\n",
    "    darkest_part, dark_mask = extract_mask_roi(image,mask, magnitude_list[0])\n",
    "    \n",
    "    \n",
    "    boundry_mask_proper = ((np.abs(np.invert(boundry_mask)*1-mask)).astype(int))\n",
    "    darkest_part_mask = (np.abs(np.invert(dark_mask)*1-mask)).astype(int)\n",
    "    \n",
    "    \n",
    "    true_boundry = boundry_mask_proper - darkest_part_mask\n",
    "    only_skin_mask = mask - boundry_mask_proper\n",
    "    \n",
    "    skin = image.copy()\n",
    "    skin[only_skin_mask.astype(int) == 0] = 0\n",
    "    \n",
    "    boundry = image.copy()\n",
    "    boundry[true_boundry.astype(int) == 0] = 0\n",
    "    \n",
    "    dark_part = image.copy()\n",
    "    dark_part[darkest_part_mask.astype(int)== 0] = 0\n",
    "    \n",
    "    average_dark = averageColorsSimple(dark_part)\n",
    "    average_boundry = averageColorsSimple(boundry)\n",
    "    average_skin = averageColorsSimple(skin)\n",
    "    \n",
    "    return average_dark, average_boundry, average_skin\n",
    "    "
   ]
  },
  {
   "cell_type": "code",
   "execution_count": null,
   "metadata": {},
   "outputs": [],
   "source": []
  },
  {
   "cell_type": "code",
   "execution_count": 13,
   "metadata": {},
   "outputs": [],
   "source": [
    "def averageColorsSimple(img):\n",
    "    non_black = np.any(img != [0, 0, 0], axis=-1)\n",
    "    average_ = np.average(img[non_black], axis=0)\n",
    "    return average_"
   ]
  },
  {
   "cell_type": "code",
   "execution_count": null,
   "metadata": {},
   "outputs": [],
   "source": []
  },
  {
   "cell_type": "code",
   "execution_count": null,
   "metadata": {},
   "outputs": [],
   "source": [
    "image2 = \"ISIC_0003539\"\n",
    "mask2=cv2.imread(f'data/example_segmentation/{image2}_segmentation.png')\n",
    "im2 = cv2.imread(f'data/example_image/{image2}.jpg')\n",
    "x = boundry_check(im2, mask2)\n",
    "\n",
    "print(x)\n"
   ]
  },
  {
   "cell_type": "code",
   "execution_count": null,
   "metadata": {},
   "outputs": [],
   "source": [
    "fig, ax = plt.subplots(ncols = 3)\n",
    "print(x, np.array(x).shape)"
   ]
  },
  {
   "cell_type": "code",
   "execution_count": null,
   "metadata": {},
   "outputs": [],
   "source": [
    "\n",
    "df = pd.read_csv(path.ground_truth)\n",
    "\n",
    "def edge_check(mask):\n",
    "    top = np.unique(mask[0,:])\n",
    "    left = np.unique(mask[:,0])\n",
    "    right = np.unique(mask[:,-1])\n",
    "    bottom = np.unique(mask[-1,:])\n",
    "    if (len(top) > 1) or  (len(left) > 1) or  (len(right) > 1) or  (len(bottom) > 1):\n",
    "        return True\n",
    "    \n",
    "    "
   ]
  },
  {
   "cell_type": "code",
   "execution_count": null,
   "metadata": {},
   "outputs": [],
   "source": [
    "\n",
    "    "
   ]
  },
  {
   "cell_type": "code",
   "execution_count": null,
   "metadata": {},
   "outputs": [
    {
     "name": "stdout",
     "output_type": "stream",
     "text": [
      "ISIC_0001769\n"
     ]
    },
    {
     "name": "stderr",
     "output_type": "stream",
     "text": [
      "100%|██████████| 180/180 [00:00<00:00, 309.16it/s]\n"
     ]
    },
    {
     "name": "stdout",
     "output_type": "stream",
     "text": [
      "ISIC_0001852\n"
     ]
    },
    {
     "name": "stderr",
     "output_type": "stream",
     "text": [
      "100%|██████████| 180/180 [00:00<00:00, 577.68it/s]"
     ]
    },
    {
     "name": "stdout",
     "output_type": "stream",
     "text": [
      "[(13985, 40728.42222222222), (5962, 22624.772222222222)]\n"
     ]
    },
    {
     "name": "stderr",
     "output_type": "stream",
     "text": [
      "\n"
     ]
    }
   ],
   "source": [
    "img = cv2.imread(f'data/example_segmentation/ISIC_0001769_segmentation.png',0)\n",
    "a,b,c,d = util.extract_bboxes(img)\n",
    "all_de = []\n",
    "test = []\n",
    "\n",
    "cropThresh = img[a:b,c:d]\n",
    "df = pd.read_csv(path.ground_truth)\n",
    "for index, line in df.iterrows():\n",
    "    id_ = line['image_id'] \n",
    "    thresh = cv2.imread(path.segmentation+f'{id_}_segmentation.png',0)\n",
    "    if edge_check(thresh) != True:        \n",
    "        a,b,c,d = util.extract_bboxes(thresh)\n",
    "        cropThresh = thresh[a:b,c:d]\n",
    "        print(id_)\n",
    "        x,z = all_deg(cropThresh)\n",
    "        all_de.append((x,np.average(z)))\n",
    "        \n",
    "        \n",
    "    else:\n",
    "        all_de.append(\"max\")\n",
    "\n",
    "\n",
    "print(all_de)\n"
   ]
  },
  {
   "cell_type": "code",
   "execution_count": null,
   "metadata": {},
   "outputs": [
    {
     "name": "stderr",
     "output_type": "stream",
     "text": [
      "100%|██████████| 180/180 [00:00<00:00, 244.74it/s]"
     ]
    },
    {
     "name": "stdout",
     "output_type": "stream",
     "text": [
      "(23269, 90)\n",
      "[  0 255]\n"
     ]
    },
    {
     "name": "stderr",
     "output_type": "stream",
     "text": [
      "\n"
     ]
    }
   ],
   "source": [
    "img = cv2.imread('data/example_segmentation/ISIC_0003657_segmentation.png',0)\n",
    "a,b,c,d = util.extract_bboxes(img)\n",
    "cropThresh = img[a:b,c:d]\n",
    "print(all_deg(cropThresh))\n",
    "\n",
    "print(np.unique(img))"
   ]
  },
  {
   "cell_type": "code",
   "execution_count": 10,
   "metadata": {},
   "outputs": [],
   "source": [
    "def extract_mask_roi2(image, mask, lower_bound, upper_bound):\n",
    "    '''\n",
    "    Function to extract the region of interest from the image and mask.\n",
    "    The input is the original image, the original mask and the threshold value.\n",
    "    The function returns the region of interest as a new numpy array.\n",
    "    '''\n",
    "    # NOTE: Images that are taken as very close ups (ISIC_0014712.jpg for example) will return the most prominent color as the color in the legion, and thus not cut out the skin color\n",
    "    \n",
    "    # Get the most dominant color in the image\n",
    "    # https://stackoverflow.com/a/50900143/8660908\n",
    "    a2D = image.reshape(-1,image.shape[-1])\n",
    "    col_range = (256, 256, 256)\n",
    "    a1D = np.ravel_multi_index(a2D.T, col_range)\n",
    "    color_range = np.unravel_index(np.bincount(a1D).argmax(), col_range)\n",
    "    # Add some upper and lower bounds for the color range\n",
    "    # Make sure lower and upper are within the color range\n",
    "    lower = np.maximum(np.array(color_range) - lower_bound, 0)\n",
    "    upper = np.minimum(np.array(color_range) + upper_bound, 255)\n",
    "\n",
    "\n",
    "    # Show only the original mask on the entire image\n",
    "    im_roi_opened = image.copy()\n",
    "    im_roi_opened[mask==0] = 0\n",
    "\n",
    "    # Remove everything that is not in the range\n",
    "    # This should amount to the skin being removed\n",
    "    cv_mask = cv2.inRange(im_roi_opened, lower, upper)\n",
    "    # cv_image = cv2.bitwise_not(im_roi_opened, im_roi_opened, mask = cv_mask)\n",
    "    cv_image = im_roi_opened.copy()\n",
    "    cv_image[cv_mask!=0] = 0\n",
    "\n",
    "    # Get the biggest connected component\n",
    "    # https://stackoverflow.com/a/63842045/8660908\n",
    "    img_bw = cv_image > 0\n",
    "    labels = sklabel(img_bw, return_num=False)\n",
    "    maxCC_nobcg = labels == np.argmax(np.bincount(labels.flat, weights=img_bw.flat))\n",
    "\n",
    "    # Apply the maxCC_nobcg mask to the cv_image\n",
    "    cv_image_nobcg = cv_image.copy()\n",
    "    cv_image_nobcg[maxCC_nobcg==0] = 0\n",
    "\n",
    "    # Turn cropped mask image into grayscale\n",
    "    cv_image_nobcg_gray = cv2.cvtColor(cv_image_nobcg, cv2.COLOR_BGR2GRAY)\n",
    "    # Turn into black and white\n",
    "    cv_image_nobcg_mask = cv_image_nobcg_gray > 0 # > 0 because of the grayscale\n",
    "\n",
    "    # Return image and mask\n",
    "    return cv_image_nobcg, cv_image_nobcg_mask"
   ]
  },
  {
   "cell_type": "code",
   "execution_count": null,
   "metadata": {},
   "outputs": [
    {
     "name": "stdout",
     "output_type": "stream",
     "text": [
      "(array([False,  True]), array([5865190,  231194]))\n"
     ]
    },
    {
     "data": {
      "text/plain": [
       "<matplotlib.image.AxesImage at 0x7fa96b3da310>"
      ]
     },
     "execution_count": 96,
     "metadata": {},
     "output_type": "execute_result"
    },
    {
     "data": {
      "image/png": "[encoded data removed]",
      "text/plain": [
       "<Figure size 432x288 with 1 Axes>"
      ]
     },
     "metadata": {
      "needs_background": "light"
     },
     "output_type": "display_data"
    }
   ],
   "source": [
    "mask = plt.imread('data/example_segmentation/ISIC_0003657_segmentation.png',0)\n",
    "img =plt.imread('data/example_image/ISIC_0003657.jpg',0)\n",
    "\n",
    "\n",
    "x,y= extract_mask_roi2(img, mask,50,50)\n",
    "\n",
    "print(np.unique(y, return_counts = True))\n",
    "\n",
    "\n",
    "plt.imshow(y)\n"
   ]
  },
  {
   "cell_type": "code",
   "execution_count": null,
   "metadata": {},
   "outputs": [],
   "source": []
  },
  {
   "cell_type": "code",
   "execution_count": 9,
   "metadata": {},
   "outputs": [],
   "source": [
    "\n",
    "def boundry_check2(image,mask, upper, lower):\n",
    "    boundry_unfiltered, boundry_mask = extract_mask_roi2(image,mask, 20,20)\n",
    "    darkest_part, dark_mask = extract_mask_roi2(image,mask, 40,40)\n",
    "    \n",
    "\n",
    "    boundry_mask[boundry_mask > 0] = 1\n",
    "    dark_mask[dark_mask > 0] = 1    \n",
    "    boundry_mask_proper = ((np.abs((boundry_mask)*1)).astype(int))\n",
    "    darkest_part_mask = (np.abs((dark_mask)*1)).astype(int)\n",
    "    \n",
    "    \n",
    "    true_boundry = boundry_mask_proper - darkest_part_mask\n",
    "    only_skin_mask = np.invert(boundry_mask)\n",
    "    \n",
    "    skin = image.copy()\n",
    "    skin[only_skin_mask.astype(int) == 0] = [0,0,0]\n",
    "    \n",
    "    boundry = image.copy()\n",
    "    boundry[true_boundry.astype(int) == 0] = [0,0,0]\n",
    "    \n",
    "    dark_part = image.copy()\n",
    "    dark_part[darkest_part_mask.astype(int)== 0] = [0,0,0]\n",
    "    \n",
    "    average_dark = averageColorsSimple(dark_part)\n",
    "    average_boundry = averageColorsSimple(boundry)\n",
    "    average_skin = averageColorsSimple(skin)\n",
    "    \n",
    "    return average_dark, average_boundry, average_skin"
   ]
  },
  {
   "cell_type": "code",
   "execution_count": null,
   "metadata": {},
   "outputs": [
    {
     "data": {
      "text/plain": [
       "<bound method Figure.tight_layout of <Figure size 2160x2160 with 15 Axes>>"
      ]
     },
     "execution_count": 130,
     "metadata": {},
     "output_type": "execute_result"
    },
    {
     "data": {
      "image/png": "[encoded data removed]",
      "text/plain": [
       "<Figure size 2160x2160 with 15 Axes>"
      ]
     },
     "metadata": {
      "needs_background": "light"
     },
     "output_type": "display_data"
    }
   ],
   "source": [
    "\n",
    "df = pd.read_csv(path.ground_truth)\n",
    "df = df.head(5)\n",
    "fig, ax = plt.subplots(figsize = (30,30), nrows = 5, ncols = 3)\n",
    "for index, line in df.iterrows():\n",
    "    id_ = line['image_id'] \n",
    "    thresh = plt.imread(path.images+f'{id_}.jpg',0)\n",
    "    mask = plt.imread(path.segmentation +f'{id_}_segmentation.png')\n",
    "    x,y,z = boundry_check2(thresh, mask, 10,10)\n",
    "    \n",
    "\n",
    "fig.tight_layout"
   ]
  },
  {
   "cell_type": "code",
   "execution_count": null,
   "metadata": {},
   "outputs": [
    {
     "name": "stdout",
     "output_type": "stream",
     "text": [
      "id:  ISIC_0001769 \n",
      " average of dark part: [159.83842032  95.57834953  63.40961844] \n",
      " average boundry:  [179.80081587 131.94565874 105.80983078] \n",
      " average skind: [172.56400818 147.71291786 132.71414213]\n",
      "id:  ISIC_0001852 \n",
      " average of dark part: [109.85679773  46.37205455  25.53741116] \n",
      " average boundry:  [164.85409051 111.92310601  85.25608219] \n",
      " average skind: [177.54102879 142.83262854 107.25255142]\n",
      "id:  ISIC_0001871 \n",
      " average of dark part: [179.02100222 126.59109647  90.30315685] \n",
      " average boundry:  [186.76657896 145.1945993  118.30798733] \n",
      " average skind: [164.18216685 156.59280111 140.56389667]\n",
      "id:  ISIC_0003462 \n",
      " average of dark part: [158.56646913 100.70443626  65.72013049] \n",
      " average boundry:  [177.56282442 142.60593573 121.13967587] \n",
      " average skind: [166.47889218 152.77070219 137.17889964]\n",
      "id:  ISIC_0003539 \n",
      " average of dark part: [150.80213503  75.55936652  38.97565577] \n",
      " average boundry:  [180.62973619 122.15677848  83.4048148 ] \n",
      " average skind: [180.8234553  143.16784727 113.7935787 ]\n",
      "id:  ISIC_0003582 \n",
      " average of dark part: [101.6854538   49.95650733  36.34707583] \n",
      " average boundry:  [162.18049265 117.28794296  92.21015977] \n",
      " average skind: [171.29615831 146.29500423 124.7198448 ]\n",
      "id:  ISIC_0003657 \n",
      " average of dark part: [156.72533924  97.58057163  63.18634424] \n",
      " average boundry:  [168.56451231 125.40129321 101.03438684] \n",
      " average skind: [153.35239917 144.87384722 130.60062   ]\n",
      "id:  ISIC_0003805 \n",
      " average of dark part: [156.54248668  90.64299719  58.94065367] \n",
      " average boundry:  [180.13976591 127.19713171  98.59312911] \n",
      " average skind: [184.6315229  152.83276829 131.91491826]\n",
      "id:  ISIC_0004337 \n",
      " average of dark part: [152.67543936  88.95757276  45.86227644] \n",
      " average boundry:  [165.49203018 112.13645535  79.33370324] \n",
      " average skind: [161.3550878  133.24202514 111.757635  ]\n",
      "id:  ISIC_0006651 \n",
      " average of dark part: [165.68100811 101.49838252  57.17370178] \n",
      " average boundry:  [185.9656971  147.34630806 122.2049509 ] \n",
      " average skind: [189.72266816 141.09349945 106.27407021]\n",
      "id:  ISIC_0006671 \n",
      " average of dark part: [167.63698987 118.83936812  95.81581306] \n",
      " average boundry:  [174.10003788 132.11767088 115.15968966] \n",
      " average skind: [150.80201519 146.50531466 128.9347043 ]\n",
      "id:  ISIC_0006815 \n",
      " average of dark part: [186.63102676 120.45458973  89.67218612] \n",
      " average boundry:  [192.05943094 136.24559927 118.82849767] \n",
      " average skind: [199.18900214 154.10391349 132.10704018]\n",
      "id:  ISIC_0006914 \n",
      " average of dark part: [164.60727774 116.90826306  83.60276262] \n",
      " average boundry:  [173.36291179 140.50924575 116.51132021] \n",
      " average skind: [166.2708294  153.99989007 143.9928501 ]\n",
      "id:  ISIC_0007141 \n",
      " average of dark part: [153.94905013  95.28082338  61.36769706] \n",
      " average boundry:  [173.4340853  135.79661826 111.9964341 ] \n",
      " average skind: [165.17732125 153.57475025 138.8764099 ]\n",
      "id:  ISIC_0007156 \n",
      " average of dark part: [185.56197238 104.71933919  67.00726756] \n",
      " average boundry:  [223.85462899 163.11994027 129.23558465] \n",
      " average skind: [208.72643202 182.64350939 162.95449303]\n",
      "id:  ISIC_0007235 \n",
      " average of dark part: [158.60450221  87.08016175  48.89384165] \n",
      " average boundry:  [180.47648398 129.28353714  82.62049276] \n",
      " average skind: [153.05312248 148.51239222 140.26003588]\n",
      "id:  ISIC_0007241 \n",
      " average of dark part: [153.08310281 104.49271229  67.37934258] \n",
      " average boundry:  [172.50198834 146.81146849 124.72913276] \n",
      " average skind: [170.85236897 163.34146796 151.00690784]\n",
      "id:  ISIC_0007332 \n",
      " average of dark part: [179.62993033 111.50328002  76.337878  ] \n",
      " average boundry:  [204.82164686 154.80253913 131.98433394] \n",
      " average skind: [189.13880338 178.99577653 168.1899938 ]\n",
      "id:  ISIC_0007344 \n",
      " average of dark part: [135.44717458  72.55539852  43.17037752] \n",
      " average boundry:  [161.52758717 111.9531615   83.95135522] \n",
      " average skind: [154.48927468 146.11309358 129.95208653]\n",
      "id:  ISIC_0007528 \n",
      " average of dark part: [173.93426403 105.75491123  64.53008305] \n",
      " average boundry:  [184.37706788 129.18260125 100.56916714] \n",
      " average skind: [185.55146104 140.54652153 110.80391569]\n",
      "id:  ISIC_0007796 \n",
      " average of dark part: [153.8301748   99.78190493  67.90469767] \n",
      " average boundry:  [168.7097275  134.74273248 118.38553991] \n",
      " average skind: [170.61639566 154.51808145 144.86232354]\n",
      "id:  ISIC_0008025 \n",
      " average of dark part: [166.95801781 109.29130974  66.70141183] \n",
      " average boundry:  [176.07550703 132.66193619 102.57681088] \n",
      " average skind: [141.79790884 144.03748759 100.75054794]\n",
      "id:  ISIC_0008524 \n",
      " average of dark part: [185.41979605 124.96599696  76.28261228] \n",
      " average boundry:  [191.49036811 138.88894907  95.26281137] \n",
      " average skind: [194.8203074  148.98447926 108.56859838]\n",
      "id:  ISIC_0009995 \n",
      " average of dark part: [161.38818072 131.02479177  98.76920458] \n",
      " average boundry:  [172.76060589 161.51532118 140.94065638] \n",
      " average skind: [174.95241264 176.58630997 166.86954376]\n",
      "id:  ISIC_0010459 \n",
      " average of dark part: [140.46675612 115.41995705 117.19896942] \n",
      " average boundry:  [171.32994642 166.82138657 163.96451908] \n",
      " average skind: [181.19255501 187.63598782 189.69322936]\n",
      "id:  ISIC_0012099 \n",
      " average of dark part: [131.52996552  72.41710293  61.15592752] \n",
      " average boundry:  [191.45967042 158.08846487 154.63226366] \n",
      " average skind: [199.81633543 184.79345952 185.2718574 ]\n",
      "id:  ISIC_0012109 \n",
      " average of dark part: [116.85673644  72.93814118  54.95964639] \n",
      " average boundry:  [173.14622642 150.05424528 130.88266509] \n",
      " average skind: [180.23856037 167.37873653 159.19826433]\n"
     ]
    }
   ],
   "source": [
    "df = pd.read_csv(path.ground_truth)\n",
    "df = df.head(27)\n",
    "for index, line in df.iterrows():\n",
    "    id_ = line['image_id'] \n",
    "    thresh = plt.imread(path.images+f'{id_}.jpg',0)\n",
    "    mask = plt.imread(path.segmentation +f'{id_}_segmentation.png')\n",
    "    x,y,z = boundry_check2(thresh, mask, 10,10)\n",
    "    print('id: ',f'{id_}', '\\n', 'average of dark part:',x,'\\n' ,'average boundry: ',y,'\\n','average skind:',z)"
   ]
  },
  {
   "cell_type": "code",
   "execution_count": null,
   "metadata": {},
   "outputs": [],
   "source": []
  },
  {
   "cell_type": "code",
   "execution_count": 17,
   "metadata": {},
   "outputs": [
    {
     "name": "stdout",
     "output_type": "stream",
     "text": [
      "12.47420947280999\n"
     ]
    }
   ],
   "source": [
    "mask = plt.imread('data/example_segmentation/ISIC_0003657_segmentation.png',0)\n",
    "img =plt.imread('data/example_image/ISIC_0003657.jpg',0)\n",
    "x,y,z = boundry_check2(img, mask, 10,10)\n",
    "x_rgb = sRGBColor(x[0],x[1],x[2])\n",
    "y_rgb = sRGBColor(y[0],y[1],y[2])\n",
    "z_rgb = sRGBColor(z[0],z[1],z[2])\n",
    "\n",
    "colorx_lab = convert_color(x_rgb, LabColor)\n",
    "colory_lab = convert_color(y_rgb, LabColor)\n",
    "colorz_lab = convert_color(z_rgb, LabColor)\n",
    "\n",
    "print(delta_e_cie2000(colorx_lab, colory_lab))\n"
   ]
  },
  {
   "cell_type": "code",
   "execution_count": null,
   "metadata": {},
   "outputs": [],
   "source": [
    "def variance_matrix(img, mask):\n",
    "    # Make sure img is not cropped\n",
    "    \n",
    "    # Takes only red values to reduce computations\n",
    "    red_channel = img[:,:,2]    \n",
    "    print\n",
    "    \n",
    "    # only runs in masked perimiter to further reduce values\n",
    "    a,b,c,d = util.extract_bboxes(mask)\n",
    "    morphology.square(11)\n",
    "    print(img[11+a:11-a,11+c:c-11])\n",
    "    variance_list = []\n",
    "    \n",
    "    for i in range(a,b,22):\n",
    "        for y in range(c,d,22):\n",
    "            img_square = img[i-11:i+11,y-11:y+11]\n",
    "            variance = np.var(img_square)\n",
    "            variance_list.append(variance)\n",
    "            \n",
    "    varianceMatrix = ndimage.generic_filter(red_channel[mask == 1], np.var, size =11)\n",
    "    return np.average(variance_list)\n",
    "\n",
    "img = plt.imread('data/example_image/ISIC_0001769.jpg')\n",
    "mask = plt.imread('data/example_segmentation/ISIC_0001769_segmentation.png')\n",
    "a,b,c,d = util.extract_bboxes(mask)\n",
    "plt.imshow(mask[a:b, c:d])\n",
    "\n",
    "\n",
    "variance_matrix(img,mask)\n"
   ]
  },
  {
   "cell_type": "code",
   "execution_count": null,
   "metadata": {},
   "outputs": [],
   "source": []
  }
 ],
 "metadata": {
  "interpreter": {
   "hash": "cb7cc420c2e6ebdad661a84547c4ce92812aabf213d6970551b9378e8b24d831"
  },
  "kernelspec": {
   "display_name": "Python 3.8.12 ('base')",
   "language": "python",
   "name": "python3"
  },
  "language_info": {
   "codemirror_mode": {
    "name": "ipython",
    "version": 3
   },
   "file_extension": ".py",
   "mimetype": "text/x-python",
   "name": "python",
   "nbconvert_exporter": "python",
   "pygments_lexer": "ipython3",
   "version": "3.8.12"
  },
  "orig_nbformat": 4
 },
 "nbformat": 4,
 "nbformat_minor": 2
}
