{
 "cells": [
  {
   "cell_type": "code",
   "execution_count": null,
   "metadata": {},
   "outputs": [],
   "source": [
    "import tensorflow as tf\n",
    "from tensorflow.keras.models import load_model\n",
    "from sklearn.model_selection import train_test_split\n",
    "import pickle"
   ]
  },
  {
   "cell_type": "code",
   "execution_count": null,
   "metadata": {},
   "outputs": [],
   "source": [
    "# Load in the 2000 images\n",
    "pickle_in = open(\"X.pickle\", \"rb\")\n",
    "X = pickle.load(pickle_in)\n",
    "\n",
    "pickle_in = open(\"y.pickle\", \"rb\")\n",
    "y = pickle.load(pickle_in)\n",
    "\n",
    "# Standardize pixel values\n",
    "X = X/255.0"
   ]
  },
  {
   "cell_type": "code",
   "execution_count": null,
   "metadata": {},
   "outputs": [],
   "source": [
    "X_train, X_test, y_train, y_test = train_test_split(X, y, test_size=0.2, stratify=y, random_state=0)"
   ]
  },
  {
   "cell_type": "code",
   "execution_count": null,
   "metadata": {},
   "outputs": [],
   "source": [
    "# Load trained model from file\n",
    "model = load_model('melanoma_model_training_end_07_04_2022-18_03_58')"
   ]
  },
  {
   "cell_type": "code",
   "execution_count": null,
   "metadata": {},
   "outputs": [],
   "source": [
    "# Predict labels based\n",
    "y_pred = model.predict(X_test)"
   ]
  },
  {
   "cell_type": "code",
   "execution_count": null,
   "metadata": {},
   "outputs": [],
   "source": [
    "# Check threshholds for convertiion of probability to predicted labels\n",
    "# Find best threshhold for f1-score\n",
    "max_f1 = 0\n",
    "\n",
    "for thresh in range(0, 1000):\n",
    "    y_pred_int = [1 if pred > 1/1000 * thresh else 0 for pred in y_pred]\n",
    "\n",
    "    from sklearn.metrics import accuracy_score\n",
    "    from sklearn.metrics import roc_auc_score\n",
    "    from sklearn.metrics import f1_score, precision_score, recall_score\n",
    "\n",
    "    auc_cnn = roc_auc_score(y_test, y_pred)\n",
    "    acc_cnn = accuracy_score(y_test, y_pred_int)\n",
    "    f1_cnn = f1_score(y_test, y_pred_int)\n",
    "    prec_cnn = precision_score(y_test, y_pred_int)\n",
    "    recall_cnn = recall_score(y_test, y_pred_int)\n",
    "    if f1_cnn > max_f1:\n",
    "        max_f1 = f1_cnn\n",
    "        best = 1 /1000 * thresh\n",
    "\n",
    "y_pred_int = [1 if pred > best else 0 for pred in y_pred]\n",
    "\n",
    "from sklearn.metrics import accuracy_score\n",
    "from sklearn.metrics import roc_auc_score\n",
    "from sklearn.metrics import f1_score, precision_score, recall_score\n",
    "\n",
    "auc_cnn = roc_auc_score(y_test, y_pred)\n",
    "acc_cnn = accuracy_score(y_test, y_pred_int)\n",
    "f1_cnn = f1_score(y_test, y_pred_int)\n",
    "prec_cnn = precision_score(y_test, y_pred_int)\n",
    "recall_cnn = recall_score(y_test, y_pred_int)"
   ]
  },
  {
   "cell_type": "code",
   "execution_count": null,
   "metadata": {},
   "outputs": [],
   "source": [
    "print(f'Best threshhold: {best}')"
   ]
  },
  {
   "cell_type": "code",
   "execution_count": null,
   "metadata": {},
   "outputs": [],
   "source": [
    "print(f'f1: {max_f1}')\n",
    "print(f'AUC: {auc_cnn}')\n",
    "print(f'Accuracy{acc_cnn}')"
   ]
  },
  {
   "cell_type": "code",
   "execution_count": null,
   "metadata": {},
   "outputs": [],
   "source": [
    "print(f'Prec: {prec_cnn}\\nRecall: {recall_cnn} \\nf1: {f1_cnn}')"
   ]
  },
  {
   "cell_type": "code",
   "execution_count": null,
   "metadata": {},
   "outputs": [],
   "source": [
    "from sklearn.metrics import ConfusionMatrixDisplay\n",
    "\n",
    "ConfusionMatrixDisplay.from_predictions(y_test, y_pred_int)"
   ]
  }
 ],
 "metadata": {
  "interpreter": {
   "hash": "3963f2bbd39ee5afc7bbd35e331849c8ffb99e329fbadb7db3ffdb305c5db364"
  },
  "kernelspec": {
   "display_name": "Python 3.7.13 ('cnn')",
   "language": "python",
   "name": "python3"
  },
  "language_info": {
   "codemirror_mode": {
    "name": "ipython",
    "version": 3
   },
   "file_extension": ".py",
   "mimetype": "text/x-python",
   "name": "python",
   "nbconvert_exporter": "python",
   "pygments_lexer": "ipython3",
   "version": "3.7.13"
  },
  "orig_nbformat": 4
 },
 "nbformat": 4,
 "nbformat_minor": 2
}
