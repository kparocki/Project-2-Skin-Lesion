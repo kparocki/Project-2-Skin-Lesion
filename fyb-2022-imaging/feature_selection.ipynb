{
  "cells": [
    {
      "cell_type": "markdown",
      "metadata": {
        "id": "2fQN_SBG0idm"
      },
      "source": [
        "## Get some images and import packages"
      ]
    },
    {
      "cell_type": "code",
      "execution_count": 1244,
      "metadata": {
        "colab": {
          "base_uri": "https://localhost:8080/"
        },
        "id": "r8Nv2biGui3u",
        "outputId": "028ac4ee-d020-4662-dc66-ee3ce5bb791d"
      },
      "outputs": [],
      "source": [
        "# if True:      #A weird trick needed for Google Colab\n",
        "#   # Clone repository with example images \n",
        "#   !rm -rf fyp2022-imaging\n",
        "#   !git clone https://github.com/vcheplygina/fyp2022-imaging.git\n",
        "\n",
        "\n",
        "import matplotlib.pyplot as plt\n",
        "import numpy as np\n",
        "import pandas as pd\n",
        "\n",
        "import path\n"
      ]
    },
    {
      "cell_type": "markdown",
      "metadata": {
        "id": "vyiqoP1MEaKZ"
      },
      "source": [
        "# Load data"
      ]
    },
    {
      "cell_type": "code",
      "execution_count": null,
      "metadata": {},
      "outputs": [],
      "source": []
    },
    {
      "cell_type": "code",
      "execution_count": 1245,
      "metadata": {
        "colab": {
          "base_uri": "https://localhost:8080/"
        },
        "id": "nWaVMWpawvjr",
        "outputId": "16d3e5e2-49d2-4009-da80-5e2c2c68dece"
      },
      "outputs": [
        {
          "name": "stdout",
          "output_type": "stream",
          "text": [
            "   melanoma  color_lesion_r  color_lesion_g  color_lesion_b  color_skin_r  \\\n",
            "0       0.0        1.225662        1.509520        1.908902    127.984024   \n",
            "1       0.0        0.535823        0.774664        1.252889    104.982014   \n",
            "2       0.0        1.493574        1.710434        1.964830    135.911098   \n",
            "3       0.0        1.197563        1.410267        1.685368    133.590866   \n",
            "4       0.0        1.454617        1.820648        2.261048    107.972809   \n",
            "\n",
            "   color_skin_g  color_skin_b       area  perimeter  min_symmetry  \\\n",
            "0    142.462125    166.470525  15.778111  15.774292      7.497762   \n",
            "1    139.760681    173.739140  15.272835  15.269028      6.773080   \n",
            "2    151.329789    158.445620  15.724578  15.720749      6.902743   \n",
            "3    148.706912    161.939588  15.486085  15.482249      6.378426   \n",
            "4    135.812584    171.415941  16.159929  16.156078      8.221479   \n",
            "\n",
            "   avg_symmetry  color_variance  circularity  \n",
            "0      8.507565         3.84783     0.000002  \n",
            "1      7.840072         0.00000     0.000003  \n",
            "2      8.797104         0.00000     0.000002  \n",
            "3      8.024246         0.00000     0.000002  \n",
            "4      9.696304         0.00000     0.000001  \n"
          ]
        }
      ],
      "source": [
        "# Load features and labels\n",
        "\n",
        "file_data = path.ground_truth\n",
        "file_features = 'data/output/out_rescaled.csv'\n",
        "\n",
        "features_list = 'color_lesion_r,color_lesion_g,color_lesion_b,color_skin_r,color_skin_g,color_skin_b,area,perimeter,min_symmetry,avg_symmetry,color_variance'.split(',')\n",
        "log_list = 'color_lesion_r,color_lesion_g,color_lesion_b,area,perimeter,min_symmetry,avg_symmetry,color_variance'.split(',')\n",
        "\n",
        "df = pd.read_csv(file_data)\n",
        "\n",
        "features = pd.read_csv(file_features, usecols = ['image_id'] + features_list)\n",
        "\n",
        "df = df.merge(features, on='image_id')\n",
        "df = df.drop(['image_id', 'seborrheic_keratosis'],axis=1)\n",
        "df['circularity'] = (4*np.pi*df['area'])/(df['perimeter'])**2\n",
        "features_list.append('circularity')\n",
        "log_list.append('circularity')\n",
        "\n",
        "\n",
        "df[log_list] = np.log(df[log_list] + 1)\n",
        "\n",
        "# Combine variables we want in one place\n",
        "print(df.head())\n",
        "\n"
      ]
    },
    {
      "cell_type": "markdown",
      "metadata": {
        "id": "jB16_s_1ebyQ"
      },
      "source": [
        "# Plots of features"
      ]
    },
    {
      "cell_type": "code",
      "execution_count": 1246,
      "metadata": {
        "colab": {
          "base_uri": "https://localhost:8080/",
          "height": 293
        },
        "id": "Df3dV2UzsM4u",
        "outputId": "10e04c83-9c6a-49d2-dae1-4a8fc4209069"
      },
      "outputs": [
        {
          "data": {
            "text/plain": [
              "<AxesSubplot:>"
            ]
          },
          "execution_count": 1246,
          "metadata": {},
          "output_type": "execute_result"
        },
        {
          "data": {
            "image/png": "[encoded data removed]",
            "text/plain": [
              "<Figure size 432x288 with 1 Axes>"
            ]
          },
          "metadata": {
            "needs_background": "light"
          },
          "output_type": "display_data"
        }
      ],
      "source": [
        "# Plots of features\n",
        "import seaborn as sns\n",
        "\n",
        "df1 = df[features_list]\n",
        "sns.boxplot(data=df1, width=0.5)\n",
        "\n"
      ]
    },
    {
      "cell_type": "code",
      "execution_count": 1247,
      "metadata": {
        "colab": {
          "base_uri": "https://localhost:8080/",
          "height": 317
        },
        "id": "naMYActIY2ZO",
        "outputId": "200f55b8-122c-45d4-bec2-dffb1a7fc353"
      },
      "outputs": [
        {
          "name": "stdout",
          "output_type": "stream",
          "text": [
            "-7.302800339756585e-17\n",
            "1.0\n"
          ]
        },
        {
          "data": {
            "text/plain": [
              "<AxesSubplot:>"
            ]
          },
          "execution_count": 1247,
          "metadata": {},
          "output_type": "execute_result"
        },
        {
          "data": {
            "image/png": "[encoded data removed]",
            "text/plain": [
              "<Figure size 432x288 with 1 Axes>"
            ]
          },
          "metadata": {
            "needs_background": "light"
          },
          "output_type": "display_data"
        }
      ],
      "source": [
        "# Let's scale the features\n",
        "from sklearn import preprocessing\n",
        "\n",
        "#Fit scaler on our data\n",
        "scaler = preprocessing.StandardScaler().fit(df1)\n",
        "\n",
        "#Apply to data itself\n",
        "df2 = scaler.transform(df1)\n",
        "\n",
        "print(df2.mean()) #small number close to 0, round of error\n",
        "print(df2.var())  #equal to 1 \n",
        "\n",
        "sns.boxplot(data=df2, width=0.5,fliersize=5) #we see both negative and positive values, since the mean is 0"
      ]
    },
    {
      "cell_type": "code",
      "execution_count": 1248,
      "metadata": {
        "id": "yZ-HkVWsblHB"
      },
      "outputs": [],
      "source": [
        "# It is possible to do scaling by dividing by the max value, but this can collapse some values together if you have outliers\n",
        "\n",
        "\n",
        "# original = [0, 0.1, 0.2, ..... 0.8, 10000]\n",
        "# transformed = original / original.max()\n",
        "\n",
        "\n",
        "\n"
      ]
    },
    {
      "cell_type": "code",
      "execution_count": 1249,
      "metadata": {
        "colab": {
          "base_uri": "https://localhost:8080/",
          "height": 461
        },
        "id": "y7cD0RwOVr5J",
        "outputId": "1e1e934b-9200-46ae-bf3f-799a1611dffe"
      },
      "outputs": [],
      "source": [
        "#print(df2.dtype) #Using the scaler removed the DataFrame information :( so we create it again\n",
        "\n",
        "df2 = pd.DataFrame(df2,columns=features_list)\n",
        "df2['melanoma'] = df['melanoma']\n",
        "\n",
        "# Look at values per class\n",
        "# sns.pairplot(df2, hue=\"melanoma\", height=3, diag_kind=\"hist\")"
      ]
    },
    {
      "cell_type": "code",
      "execution_count": 1250,
      "metadata": {
        "colab": {
          "base_uri": "https://localhost:8080/",
          "height": 279
        },
        "id": "TGaS5ABQbo9W",
        "outputId": "248a9118-c07a-4e34-ae09-99cc8641b2ec"
      },
      "outputs": [],
      "source": [
        "# A plot showing distribution differences for a single feature\n",
        "# for feature in features_list:\n",
        "#     fig, ax = plt.subplots()\n",
        "#     ax = sns.violinplot(x=\"melanoma\", y=feature, data=df2,size=8)"
      ]
    },
    {
      "cell_type": "markdown",
      "metadata": {
        "id": "_IiAcg1IeVWr"
      },
      "source": [
        "# Feature selection"
      ]
    },
    {
      "cell_type": "code",
      "execution_count": 1251,
      "metadata": {
        "colab": {
          "base_uri": "https://localhost:8080/"
        },
        "id": "ejLl4jF6gNND",
        "outputId": "d119fb5d-1a32-4812-8ebd-c502f9ce1433"
      },
      "outputs": [
        {
          "name": "stdout",
          "output_type": "stream",
          "text": [
            "14\n"
          ]
        }
      ],
      "source": [
        "# For illustration let's create some noisy features, and see if our method filters them out\n",
        "\n",
        "random_seed = 42\n",
        "num_noisy_features = 1\n",
        "\n",
        "noise = np.random.RandomState(random_seed).uniform(0, 0.1, size=(df2.shape[0], num_noisy_features))\n",
        "\n",
        "# Add the noisy data to the informative features\n",
        "X = np.hstack((df2[features_list], noise))\n",
        "y = df2['melanoma']\n",
        "\n",
        "num_total_features = df2.shape[1] + num_noisy_features\n",
        "print(num_total_features)"
      ]
    },
    {
      "cell_type": "code",
      "execution_count": 1252,
      "metadata": {
        "colab": {
          "base_uri": "https://localhost:8080/",
          "height": 296
        },
        "id": "3QVPVItqhDoF",
        "outputId": "4247a9e7-25a6-4150-dd25-4e098b15673d"
      },
      "outputs": [
        {
          "data": {
            "text/plain": [
              "Text(0, 0.5, 'mutual information')"
            ]
          },
          "execution_count": 1252,
          "metadata": {},
          "output_type": "execute_result"
        },
        {
          "data": {
            "image/png": "[encoded data removed]",
            "text/plain": [
              "<Figure size 432x288 with 1 Axes>"
            ]
          },
          "metadata": {
            "needs_background": "light"
          },
          "output_type": "display_data"
        }
      ],
      "source": [
        "# Univariate feature selection with mutual information for feature scoring\n",
        "from sklearn.feature_selection import mutual_info_classif, SelectKBest\n",
        "\n",
        "selector = SelectKBest(mutual_info_classif, k=11)\n",
        "selector.fit(X, y)\n",
        "\n",
        "# Show the feature scores\n",
        "scores = selector.scores_\n",
        "\n",
        "fig, ax = plt.subplots()\n",
        "ax.bar(np.arange(0,num_total_features-1), scores, width=.2)\n",
        "ax.set_xlabel('feature index')\n",
        "ax.set_ylabel('mutual information')"
      ]
    },
    {
      "cell_type": "code",
      "execution_count": 1253,
      "metadata": {
        "colab": {
          "base_uri": "https://localhost:8080/"
        },
        "id": "GqG4wZOD3GKd",
        "outputId": "12dae581-9af0-41ec-bde1-157010873bb2"
      },
      "outputs": [
        {
          "name": "stdout",
          "output_type": "stream",
          "text": [
            "(150, 11)\n",
            "[[-0.88761236 -0.81031907 -0.75679085 ...  0.4735813   0.27439019\n",
            "   0.03745401]\n",
            " [-1.51793137 -1.49217276 -1.35590639 ... -1.54845025  1.00175834\n",
            "   0.09507143]\n",
            " [-0.6428171  -0.62389625 -0.70571356 ... -1.54845025  0.33525636\n",
            "   0.07319939]\n",
            " ...\n",
            " [ 1.04590712  1.01532294  0.93898032 ...  0.91239249 -0.69965549\n",
            "   0.0502679 ]\n",
            " [ 0.90746636  0.9639403   1.12150862 ...  1.21272097 -0.70117289\n",
            "   0.00514788]\n",
            " [-0.67414905 -0.35781281  0.10403047 ...  0.66188391 -0.47620193\n",
            "   0.02786465]]\n"
          ]
        }
      ],
      "source": [
        "# Use the selector to actually only leave the features with the high scores\n",
        "X_after_selection = selector.transform(X)\n",
        "\n",
        "print(X_after_selection.shape)\n",
        "\n",
        "print(X_after_selection)"
      ]
    },
    {
      "cell_type": "code",
      "execution_count": 1254,
      "metadata": {},
      "outputs": [],
      "source": [
        "from sklearn.model_selection import train_test_split\n",
        "# Some noisy features\n",
        "\n",
        "# Add the noisy data to the informative features\n",
        "X = X_after_selection\n",
        "# X[:, [9, 10]]\n",
        "\n"
      ]
    },
    {
      "cell_type": "code",
      "execution_count": 1255,
      "metadata": {},
      "outputs": [
        {
          "name": "stdout",
          "output_type": "stream",
          "text": [
            "0.8214285714285714 0.5782608695652174\n",
            "0.8214285714285714 0.6565217391304348\n"
          ]
        }
      ],
      "source": [
        "from sklearn.neighbors import KNeighborsClassifier\n",
        "from sklearn.tree import DecisionTreeClassifier\n",
        "from sklearn.metrics import accuracy_score\n",
        "from sklearn.metrics import roc_auc_score\n",
        "\n",
        "# Split dataset to select feature and evaluate the classifier\n",
        "X_dev, X_test, y_dev, y_test = train_test_split(\n",
        "        X, y, stratify=y, random_state=0)\n",
        "\n",
        "\n",
        "X_train, X_val, y_train, y_val = train_test_split(\n",
        "        X_dev, y_dev, stratify=y_dev)\n",
        "\n",
        "# Train a classifier\n",
        "knn = KNeighborsClassifier(n_neighbors=15, weights='distance') # other hyperparameters possible\n",
        "knntrained = knn.fit(X_train, y_train)\n",
        "\n",
        "dtree = DecisionTreeClassifier()\n",
        "dtree = dtree.fit(X_train, y_train)\n",
        "\n",
        "y_val_tree = dtree.predict(X_val)\n",
        "y_val_knn = knntrained.predict(X_val)\n",
        "\n",
        "acc_knn = accuracy_score(y_val, y_val_knn)\n",
        "acc_tree = accuracy_score(y_val, y_val_tree)\n",
        "\n",
        "auc_knn = roc_auc_score(y_val, y_val_knn)\n",
        "auc_tree = roc_auc_score(y_val, y_val_tree)\n",
        "\n",
        "print(acc_knn,auc_knn)\n",
        "print(acc_tree,auc_tree)"
      ]
    },
    {
      "cell_type": "code",
      "execution_count": 1256,
      "metadata": {},
      "outputs": [
        {
          "name": "stdout",
          "output_type": "stream",
          "text": [
            "0.5291666666666667\n"
          ]
        }
      ],
      "source": [
        "# ONLY FOR REPORTING, also evaluate on test set\n",
        "X_test = X_test\n",
        "\n",
        "y_test_knn = knntrained.predict(X_test)\n",
        "\n",
        "auc_test = roc_auc_score(y_test, y_test_knn)\n",
        "\n",
        "print(auc_test)"
      ]
    },
    {
      "cell_type": "code",
      "execution_count": 1257,
      "metadata": {},
      "outputs": [
        {
          "name": "stdout",
          "output_type": "stream",
          "text": [
            "7.894736842105263\n"
          ]
        },
        {
          "data": {
            "text/plain": [
              "<sklearn.metrics._plot.confusion_matrix.ConfusionMatrixDisplay at 0x7faccf5ea7f0>"
            ]
          },
          "execution_count": 1257,
          "metadata": {},
          "output_type": "execute_result"
        },
        {
          "data": {
            "image/png": "[encoded data removed]",
            "text/plain": [
              "<Figure size 432x288 with 2 Axes>"
            ]
          },
          "metadata": {
            "needs_background": "light"
          },
          "output_type": "display_data"
        }
      ],
      "source": [
        "from sklearn.metrics import ConfusionMatrixDisplay\n",
        "print(sum(y_test_knn) / len(y_test) * 100)\n",
        "ConfusionMatrixDisplay.from_predictions(y_test, y_test_knn)"
      ]
    },
    {
      "cell_type": "code",
      "execution_count": null,
      "metadata": {},
      "outputs": [],
      "source": []
    }
  ],
  "metadata": {
    "colab": {
      "collapsed_sections": [],
      "name": "FYP imaging - evaluating features",
      "provenance": [],
      "toc_visible": true
    },
    "kernelspec": {
      "display_name": "Python 3",
      "name": "python3"
    },
    "language_info": {
      "codemirror_mode": {
        "name": "ipython",
        "version": 3
      },
      "file_extension": ".py",
      "mimetype": "text/x-python",
      "name": "python",
      "nbconvert_exporter": "python",
      "pygments_lexer": "ipython3",
      "version": "3.8.12"
    }
  },
  "nbformat": 4,
  "nbformat_minor": 0
}
