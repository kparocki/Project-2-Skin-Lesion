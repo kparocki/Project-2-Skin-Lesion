{
 "cells": [
  {
   "cell_type": "code",
   "execution_count": 52,
   "metadata": {},
   "outputs": [],
   "source": [
    "import cv2\n",
    "import csv\n",
    "import pandas as pd\n",
    "import numpy as np\n",
    "from PIL import Image\n",
    "import matplotlib.pyplot as plt\n",
    "from matplotlib.offsetbox import AnchoredText\n",
    "import ast\n",
    "import groupXY_functions as util\n",
    "import skimage.morphology as morphology\n",
    "from skimage.morphology import opening\n",
    "\n",
    "import path\n",
    "import imutils\n",
    "from tqdm import tqdm\n",
    "from skimage.measure import label as sklabel"
   ]
  },
  {
   "cell_type": "code",
   "execution_count": 53,
   "metadata": {},
   "outputs": [],
   "source": [
    "def scale_image_res(img, mask, dim):\n",
    "    resized_img = cv2.resize(img, dim, interpolation = cv2.INTER_NEAREST)\n",
    "    resized_mask = cv2.resize(mask, dim, interpolation = cv2.INTER_NEAREST)\n",
    "\n",
    "    return resized_img, resized_mask"
   ]
  },
  {
   "cell_type": "code",
   "execution_count": 54,
   "metadata": {},
   "outputs": [
    {
     "data": {
      "text/html": [
       "<div>\n",
       "<style scoped>\n",
       "    .dataframe tbody tr th:only-of-type {\n",
       "        vertical-align: middle;\n",
       "    }\n",
       "\n",
       "    .dataframe tbody tr th {\n",
       "        vertical-align: top;\n",
       "    }\n",
       "\n",
       "    .dataframe thead th {\n",
       "        text-align: right;\n",
       "    }\n",
       "</style>\n",
       "<table border=\"1\" class=\"dataframe\">\n",
       "  <thead>\n",
       "    <tr style=\"text-align: right;\">\n",
       "      <th></th>\n",
       "      <th>image_id</th>\n",
       "      <th>melanoma</th>\n",
       "      <th>seborrheic_keratosis</th>\n",
       "    </tr>\n",
       "  </thead>\n",
       "  <tbody>\n",
       "    <tr>\n",
       "      <th>0</th>\n",
       "      <td>ISIC_0001769</td>\n",
       "      <td>0.0</td>\n",
       "      <td>0.0</td>\n",
       "    </tr>\n",
       "    <tr>\n",
       "      <th>1</th>\n",
       "      <td>ISIC_0001852</td>\n",
       "      <td>0.0</td>\n",
       "      <td>0.0</td>\n",
       "    </tr>\n",
       "    <tr>\n",
       "      <th>2</th>\n",
       "      <td>ISIC_0001871</td>\n",
       "      <td>0.0</td>\n",
       "      <td>0.0</td>\n",
       "    </tr>\n",
       "    <tr>\n",
       "      <th>3</th>\n",
       "      <td>ISIC_0003462</td>\n",
       "      <td>0.0</td>\n",
       "      <td>0.0</td>\n",
       "    </tr>\n",
       "    <tr>\n",
       "      <th>4</th>\n",
       "      <td>ISIC_0003539</td>\n",
       "      <td>0.0</td>\n",
       "      <td>0.0</td>\n",
       "    </tr>\n",
       "    <tr>\n",
       "      <th>...</th>\n",
       "      <td>...</td>\n",
       "      <td>...</td>\n",
       "      <td>...</td>\n",
       "    </tr>\n",
       "    <tr>\n",
       "      <th>145</th>\n",
       "      <td>ISIC_0015443</td>\n",
       "      <td>0.0</td>\n",
       "      <td>0.0</td>\n",
       "    </tr>\n",
       "    <tr>\n",
       "      <th>146</th>\n",
       "      <td>ISIC_0015445</td>\n",
       "      <td>0.0</td>\n",
       "      <td>0.0</td>\n",
       "    </tr>\n",
       "    <tr>\n",
       "      <th>147</th>\n",
       "      <td>ISIC_0015483</td>\n",
       "      <td>0.0</td>\n",
       "      <td>0.0</td>\n",
       "    </tr>\n",
       "    <tr>\n",
       "      <th>148</th>\n",
       "      <td>ISIC_0015496</td>\n",
       "      <td>0.0</td>\n",
       "      <td>0.0</td>\n",
       "    </tr>\n",
       "    <tr>\n",
       "      <th>149</th>\n",
       "      <td>ISIC_0015627</td>\n",
       "      <td>0.0</td>\n",
       "      <td>0.0</td>\n",
       "    </tr>\n",
       "  </tbody>\n",
       "</table>\n",
       "<p>150 rows × 3 columns</p>\n",
       "</div>"
      ],
      "text/plain": [
       "         image_id  melanoma  seborrheic_keratosis\n",
       "0    ISIC_0001769       0.0                   0.0\n",
       "1    ISIC_0001852       0.0                   0.0\n",
       "2    ISIC_0001871       0.0                   0.0\n",
       "3    ISIC_0003462       0.0                   0.0\n",
       "4    ISIC_0003539       0.0                   0.0\n",
       "..            ...       ...                   ...\n",
       "145  ISIC_0015443       0.0                   0.0\n",
       "146  ISIC_0015445       0.0                   0.0\n",
       "147  ISIC_0015483       0.0                   0.0\n",
       "148  ISIC_0015496       0.0                   0.0\n",
       "149  ISIC_0015627       0.0                   0.0\n",
       "\n",
       "[150 rows x 3 columns]"
      ]
     },
     "execution_count": 54,
     "metadata": {},
     "output_type": "execute_result"
    }
   ],
   "source": [
    "ground_truth_df = pd.read_csv(path.ground_truth)\n",
    "ground_truth_df"
   ]
  },
  {
   "cell_type": "code",
   "execution_count": 55,
   "metadata": {},
   "outputs": [
    {
     "name": "stdout",
     "output_type": "stream",
     "text": [
      "(768, 1024)\n"
     ]
    }
   ],
   "source": [
    "min_pix = np.inf\n",
    "\n",
    "for _id in ground_truth_df['image_id']:\n",
    "    mask = cv2.imread(f'data/example_segmentation/{_id}_segmentation.png',0)\n",
    "    \n",
    "    shape = mask.shape\n",
    "    pix = shape[0] * shape[1]\n",
    "    if pix < min_pix:\n",
    "        min_pix = pix\n",
    "        mini = shape\n",
    "\n",
    "print(mini)"
   ]
  },
  {
   "cell_type": "code",
   "execution_count": 75,
   "metadata": {},
   "outputs": [
    {
     "name": "stdout",
     "output_type": "stream",
     "text": [
      "(768, 1024)\n",
      "(768, 1024)\n",
      "(768, 1024)\n"
     ]
    },
    {
     "data": {
      "image/png": "[encoded data removed]",
      "text/plain": [
       "<Figure size 432x288 with 6 Axes>"
      ]
     },
     "metadata": {
      "needs_background": "light"
     },
     "output_type": "display_data"
    }
   ],
   "source": [
    "min_dim = (1024, 768)\n",
    "n = 3\n",
    "\n",
    "fig, ax = plt.subplots(ncols=n, nrows=2)\n",
    "\n",
    "for i, _id in enumerate(ground_truth_df['image_id'][:n]):\n",
    "    image = plt.imread(f'data/example_image/{_id}.jpg')\n",
    "    mask = plt.imread(f'data/example_segmentation/{_id}_segmentation.png')\n",
    "    \n",
    "    image, mask = scale_image_res(image, mask, min_dim)\n",
    "\n",
    "    ax[0,i].imshow(image)\n",
    "    ax[1,i].imshow(mask)\n",
    "\n",
    "    print(mask.shape)"
   ]
  },
  {
   "cell_type": "code",
   "execution_count": 63,
   "metadata": {},
   "outputs": [],
   "source": [
    "df1 = pd.read_csv(path.out+'out.csv')\n",
    "df2 = pd.read_csv(path.out+'out2.csv')\n",
    "\n",
    "df1['sym_fix'] = df1['avg_symetry'] / df1['area']\n",
    "df2['sym_fix'] = df2['avg_symetry'] / df2['area']"
   ]
  },
  {
   "cell_type": "code",
   "execution_count": 64,
   "metadata": {},
   "outputs": [
    {
     "name": "stdout",
     "output_type": "stream",
     "text": [
      "Unnamed: 0\n",
      "0.0\n",
      "\n",
      "melanoma\n",
      "0.0\n",
      "\n",
      "seborrheic_keratosis\n",
      "0.0\n",
      "\n",
      "color_lesion_r\n",
      "0.0028422637644810343\n",
      "\n",
      "color_lesion_g\n",
      "0.0037809887779328677\n",
      "\n",
      "color_lesion_b\n",
      "0.004671777688862064\n",
      "\n",
      "color_skin_r\n",
      "-0.0017985153361636346\n",
      "\n",
      "color_skin_g\n",
      "-0.0012416037649175967\n",
      "\n",
      "color_skin_b\n",
      "-0.005388030624764646\n",
      "\n",
      "area\n",
      "759279982.8\n",
      "\n",
      "perimeter\n",
      "756306613.9133333\n",
      "\n",
      "min_symmetry\n",
      "163130.26\n",
      "\n",
      "avg_symetry\n",
      "460103.9408518518\n",
      "\n",
      "sym_fix\n",
      "-0.0004977052243661615\n",
      "\n"
     ]
    }
   ],
   "source": [
    "for feature in df2.columns:\n",
    "    if feature != \"image_id\":\n",
    "        print(feature)\n",
    "        print(np.mean(df1[feature]-df2[feature]))\n",
    "        print()"
   ]
  },
  {
   "cell_type": "code",
   "execution_count": 74,
   "metadata": {},
   "outputs": [
    {
     "data": {
      "text/plain": [
       "7065240885.0"
      ]
     },
     "execution_count": 74,
     "metadata": {},
     "output_type": "execute_result"
    }
   ],
   "source": [
    "np.max(df1['area'])"
   ]
  },
  {
   "cell_type": "code",
   "execution_count": null,
   "metadata": {},
   "outputs": [],
   "source": []
  }
 ],
 "metadata": {
  "interpreter": {
   "hash": "403f597af8fb98064eafa31de0a57ad39fab19afe966a2a256ba023cb74d6cfa"
  },
  "kernelspec": {
   "display_name": "Python 3.8.12 ('fyp2')",
   "language": "python",
   "name": "python3"
  },
  "language_info": {
   "codemirror_mode": {
    "name": "ipython",
    "version": 3
   },
   "file_extension": ".py",
   "mimetype": "text/x-python",
   "name": "python",
   "nbconvert_exporter": "python",
   "pygments_lexer": "ipython3",
   "version": "3.8.12"
  },
  "orig_nbformat": 4
 },
 "nbformat": 4,
 "nbformat_minor": 2
}
