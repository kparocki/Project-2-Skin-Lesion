{
  "nbformat": 4,
  "nbformat_minor": 0,
  "metadata": {
    "colab": {
      "name": "FYP imaging - classifiers",
      "provenance": [],
      "collapsed_sections": [],
      "toc_visible": true
    },
    "kernelspec": {
      "name": "python3",
      "display_name": "Python 3"
    }
  },
  "cells": [
    {
      "cell_type": "markdown",
      "metadata": {
        "id": "2fQN_SBG0idm"
      },
      "source": [
        "## Get some images and import packages"
      ]
    },
    {
      "cell_type": "code",
      "metadata": {
        "colab": {
          "base_uri": "https://localhost:8080/"
        },
        "id": "r8Nv2biGui3u",
        "outputId": "5780f2e2-7003-4567-82a7-c5db1aa952be"
      },
      "source": [
        "if True:      #A weird trick needed for Google Colab\n",
        "  # Clone repository with example images \n",
        "  !rm -rf fyp2022-imaging\n",
        "  !git clone https://github.com/vcheplygina/fyp2022-imaging.git\n",
        "\n",
        "\n",
        "import matplotlib.pyplot as plt\n",
        "import numpy as np\n",
        "import pandas as pd\n"
      ],
      "execution_count": null,
      "outputs": [
        {
          "output_type": "stream",
          "text": [
            "Cloning into 'fyp2021p3'...\n",
            "remote: Enumerating objects: 387, done.\u001b[K\n",
            "remote: Counting objects: 100% (13/13), done.\u001b[K\n",
            "remote: Compressing objects: 100% (13/13), done.\u001b[K\n",
            "remote: Total 387 (delta 6), reused 2 (delta 0), pack-reused 374\u001b[K\n",
            "Receiving objects: 100% (387/387), 855.59 MiB | 36.47 MiB/s, done.\n",
            "Resolving deltas: 100% (98/98), done.\n",
            "Checking out files: 100% (366/366), done.\n"
          ],
          "name": "stdout"
        }
      ]
    },
    {
      "cell_type": "markdown",
      "metadata": {
        "id": "vyiqoP1MEaKZ"
      },
      "source": [
        "# Load data"
      ]
    },
    {
      "cell_type": "code",
      "metadata": {
        "colab": {
          "base_uri": "https://localhost:8080/"
        },
        "id": "nWaVMWpawvjr",
        "outputId": "7a36245c-b65e-40f3-f3ca-2bf2907c10b0"
      },
      "source": [
        "# Load features and labels\n",
        "\n",
        "file_data = 'fyp2022-imaging/data/example_ground_truth.csv'\n",
        "file_features = 'fyp2022-imaging/features/features.csv'\n",
        "\n",
        "df = pd.read_csv(file_data)\n",
        "features = pd.read_csv(file_features)\n",
        "\n",
        "\n",
        "# Combine variables we want in one place\n",
        "df = df.drop(['image_id','seborrheic_keratosis'],axis=1)\n",
        "df['area'] = features['area']\n",
        "df['perimeter'] = features['perimeter']\n",
        "\n",
        "print(df.head())\n"
      ],
      "execution_count": null,
      "outputs": [
        {
          "output_type": "stream",
          "text": [
            "   melanoma      area  perimeter\n",
            "0       0.0  216160.0     2013.0\n",
            "1       0.0  130493.0     1372.0\n",
            "2       0.0  205116.0     1720.0\n",
            "3       0.0  161705.0     1344.0\n",
            "4       0.0  317040.0     2063.0\n"
          ],
          "name": "stdout"
        }
      ]
    },
    {
      "cell_type": "markdown",
      "metadata": {
        "id": "_IiAcg1IeVWr"
      },
      "source": [
        "# Feature selection"
      ]
    },
    {
      "cell_type": "code",
      "metadata": {
        "id": "ejLl4jF6gNND"
      },
      "source": [
        "# Split the data before feature selection\n",
        "from sklearn.model_selection import train_test_split\n",
        "\n",
        "# Some noisy features\n",
        "noise = np.random.RandomState(42).uniform(0, 0.1, size=(df2.shape[0], 20))\n",
        "\n",
        "# Add the noisy data to the informative features\n",
        "X = np.hstack((df2[['area', 'perimeter']], noise))\n",
        "y = df2['melanoma']\n",
        "\n",
        "# Split dataset to select feature and evaluate the classifier\n",
        "X_dev, X_test, y_dev, y_test = train_test_split(\n",
        "        X, y, stratify=y, random_state=0)\n",
        "\n",
        "X_train, X_val, y_train, y_val = train_test_split(\n",
        "        X_dev, y_dev, stratify=y_dev)\n"
      ],
      "execution_count": null,
      "outputs": []
    },
    {
      "cell_type": "markdown",
      "metadata": {
        "id": "x2zOXDF53nly"
      },
      "source": [
        "# Train some classifiers"
      ]
    },
    {
      "cell_type": "code",
      "metadata": {
        "id": "GqG4wZOD3GKd"
      },
      "source": [
        "from sklearn.neighbors import KNeighborsClassifier\n",
        "from sklearn.tree import DecisionTreeClassifier\n",
        "\n",
        "# Select features \n",
        "X_train1 = X_train[:, [0,1]] # Here just selecting the first two \n",
        "X_train2 = selector.transform(X_train) # Here based on feature selection process\n",
        "\n",
        "# Train a classifier\n",
        "knn1 = KNeighborsClassifier(n_neighbors=1) # other hyperparameters possible\n",
        "knn1trained = knn1.fit(X_train2, y_train)\n",
        "\n",
        "knn2 = KNeighborsClassifier(n_neighbors=3)\n",
        "knn2trained = knn2.fit(X_train2, y_train)\n",
        "\n",
        "tree1 = DecisionTreeClassifier() \n",
        "tree1trained = tree1.fit(X_train2, y_train)\n"
      ],
      "execution_count": null,
      "outputs": []
    },
    {
      "cell_type": "markdown",
      "metadata": {
        "id": "sjF58DfkzW5-"
      },
      "source": [
        "# Evaluate classifiers on validation set"
      ]
    },
    {
      "cell_type": "code",
      "metadata": {
        "colab": {
          "base_uri": "https://localhost:8080/"
        },
        "id": "B_kRZCE80ZKV",
        "outputId": "7edb66a5-d469-4441-cccc-84fd68f2bf09"
      },
      "source": [
        "#Select the same features as before\n",
        "X_val1 = X_val[:, [0,1]]\n",
        "X_val2 = selector.transform(X_val)\n",
        "\n",
        "y_val_knn1 = knn1trained.predict(X_val2)\n",
        "y_val_knn2 = knn2trained.predict(X_val2)\n",
        "\n",
        "# Accuracy - often used in ML but not suitable for medical imaging in general\n",
        "print(np.sum(y_val_knn1 == y_val) / np.size(y_val) * 100)\n",
        "print(np.sum(y_val_knn2 == y_val) / np.size(y_val) * 100)"
      ],
      "execution_count": null,
      "outputs": [
        {
          "output_type": "stream",
          "text": [
            "71.42857142857143\n",
            "78.57142857142857\n"
          ],
          "name": "stdout"
        }
      ]
    },
    {
      "cell_type": "code",
      "metadata": {
        "colab": {
          "base_uri": "https://localhost:8080/"
        },
        "id": "fW7DhUbb15Gy",
        "outputId": "f21cac86-ed1a-46ba-af91-5e6015391590"
      },
      "source": [
        "from sklearn.metrics import accuracy_score\n",
        "\n",
        "acc_knn1 = accuracy_score(y_val, y_val_knn1)\n",
        "acc_knn2 = accuracy_score(y_val, y_val_knn2)\n",
        "\n",
        "print(acc_knn1)\n",
        "print(acc_knn2)"
      ],
      "execution_count": null,
      "outputs": [
        {
          "output_type": "stream",
          "text": [
            "0.7142857142857143\n",
            "0.7857142857142857\n"
          ],
          "name": "stdout"
        }
      ]
    },
    {
      "cell_type": "code",
      "metadata": {
        "colab": {
          "base_uri": "https://localhost:8080/"
        },
        "id": "OKM5Pvmf2mlN",
        "outputId": "aebf0dfb-7284-4532-b180-62caa2e1fc4d"
      },
      "source": [
        "from sklearn.metrics import roc_auc_score\n",
        "\n",
        "auc1 = roc_auc_score(y_val, y_val_knn1)\n",
        "auc2 = roc_auc_score(y_val, y_val_knn2)\n",
        "\n",
        "print(auc1)\n",
        "print(auc2)"
      ],
      "execution_count": null,
      "outputs": [
        {
          "output_type": "stream",
          "text": [
            "0.6363636363636364\n",
            "0.6818181818181818\n"
          ],
          "name": "stdout"
        }
      ]
    },
    {
      "cell_type": "code",
      "metadata": {
        "colab": {
          "base_uri": "https://localhost:8080/"
        },
        "id": "N_yAmTEwADuy",
        "outputId": "0dc6ef9a-9595-4f2d-d3a0-a3b82db1f144"
      },
      "source": [
        "# ONLY FOR REPORTING, also evaluate on test set\n",
        "X_test = X_test[:, [0,1]]\n",
        "\n",
        "y_test_knn1 = knn2trained.predict(X_test)\n",
        "\n",
        "acc_test = accuracy_score(y_test, y_test_knn1)\n",
        "auc_test = roc_auc_score(y_test, y_test_knn1)\n",
        "\n",
        "print(acc_test)\n",
        "print(auc_test)\n",
        "\n",
        "# For small datasets these results will depend on the random seed you chose when splitting, \n",
        "# this is why it is good to look at multiple splits/cross-validation"
      ],
      "execution_count": null,
      "outputs": [
        {
          "output_type": "stream",
          "text": [
            "0.6842105263157895\n",
            "0.43333333333333335\n"
          ],
          "name": "stdout"
        }
      ]
    }
  ]
}