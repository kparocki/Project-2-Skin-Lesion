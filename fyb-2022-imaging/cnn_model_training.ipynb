{
 "cells": [
  {
   "cell_type": "code",
   "execution_count": 1,
   "metadata": {},
   "outputs": [],
   "source": [
    "import numpy as np\n",
    "from sklearn.model_selection import train_test_split\n",
    "\n",
    "import tensorflow as tf\n",
    "from tensorflow.keras.models import Sequential\n",
    "from tensorflow.keras.layers import Dense, Dropout, Activation, Flatten, Conv2D, MaxPooling2D"
   ]
  },
  {
   "cell_type": "code",
   "execution_count": 2,
   "metadata": {},
   "outputs": [
    {
     "name": "stderr",
     "output_type": "stream",
     "text": [
      "2022-04-07 21:34:00.878766: I tensorflow/core/platform/cpu_feature_guard.cc:145] This TensorFlow binary is optimized with Intel(R) MKL-DNN to use the following CPU instructions in performance critical operations:  SSE4.1 SSE4.2\n",
      "To enable them in non-MKL-DNN operations, rebuild TensorFlow with the appropriate compiler flags.\n",
      "2022-04-07 21:34:00.879426: I tensorflow/core/common_runtime/process_util.cc:115] Creating new thread pool with default inter op setting: 8. Tune using inter_op_parallelism_threads for best performance.\n"
     ]
    }
   ],
   "source": [
    "gpu_options = tf.compat.v1.GPUOptions(per_process_gpu_memory_fraction=0.333)\n",
    "sess = tf.compat.v1.Session(config=tf.compat.v1.ConfigProto(gpu_options=gpu_options))"
   ]
  },
  {
   "cell_type": "code",
   "execution_count": 3,
   "metadata": {},
   "outputs": [],
   "source": [
    "import pickle\n",
    "\n",
    "pickle_in = open(\"X.pickle\",\"rb\")\n",
    "X = pickle.load(pickle_in)\n",
    "\n",
    "pickle_in = open(\"y.pickle\",\"rb\")\n",
    "y = pickle.load(pickle_in)\n",
    "\n",
    "X = X/255.0\n"
   ]
  },
  {
   "cell_type": "code",
   "execution_count": 20,
   "metadata": {},
   "outputs": [],
   "source": [
    "X_train, X_test, y_train, y_test = train_test_split(X, y, test_size=0.2, stratify=y)"
   ]
  },
  {
   "cell_type": "code",
   "execution_count": 21,
   "metadata": {},
   "outputs": [],
   "source": [
    "model = Sequential()\n",
    "\n",
    "# Convolution layer 1\n",
    "model.add(Conv2D(50, (3, 3), strides=(1,1), padding='same', activation='relu', input_shape=X.shape[1:]))\n",
    "model.add(MaxPooling2D(pool_size=(2, 2)))\n",
    "model.add(Dropout(0.25))\n",
    "\n",
    "# Convolution layer 2\n",
    "model.add(Conv2D(50, (3, 3), strides=(1,1), padding='same', activation='relu'))\n",
    "model.add(MaxPooling2D(pool_size=(2, 2)))\n",
    "model.add(Dropout(0.25))\n",
    "\n",
    "# Convolution layer 2\n",
    "model.add(Conv2D(50, (3, 3), strides=(1,1), padding='same', activation='relu'))\n",
    "model.add(MaxPooling2D(pool_size=(2, 2)))\n",
    "model.add(Dropout(0.25))\n",
    "\n",
    "# Flatten to 1D before hidden layers\n",
    "model.add(Flatten()) \n",
    "\n",
    "# Hidden layers\n",
    "model.add(Dense(64, activation='relu'))\n",
    "model.add(Dropout(0.3))\n",
    "model.add(Dense(32, activation='relu'))\n",
    "model.add(Dropout(0.3))\n",
    "\n",
    "\n",
    "model.add(Dense(1, activation ='sigmoid'))"
   ]
  },
  {
   "cell_type": "code",
   "execution_count": 22,
   "metadata": {},
   "outputs": [],
   "source": [
    "model.compile(\n",
    "    loss='binary_crossentropy', \n",
    "    metrics=[tf.keras.metrics.AUC(num_thresholds=50)], \n",
    "    optimizer='adam')"
   ]
  },
  {
   "cell_type": "code",
   "execution_count": 23,
   "metadata": {},
   "outputs": [],
   "source": [
    "checkpoint_filepath = '/tmp/checkpoint/melanoma_{epoch:02d}-{val_loss:.2f}'\n",
    "model_checkpoint_callback = tf.keras.callbacks.ModelCheckpoint(\n",
    "    filepath=checkpoint_filepath,\n",
    "    save_weights_only=True,\n",
    "    monitor='val_auc',\n",
    "    mode='max',\n",
    "    save_best_only=True)"
   ]
  },
  {
   "cell_type": "code",
   "execution_count": 24,
   "metadata": {},
   "outputs": [
    {
     "data": {
      "text/plain": [
       "{0: 1.0, 1: 4.347593582887701}"
      ]
     },
     "execution_count": 24,
     "metadata": {},
     "output_type": "execute_result"
    }
   ],
   "source": [
    "_, counts = np.unique(y, return_counts=True)\n",
    "\n",
    "class_weights = {\n",
    "    0: counts[0] / np.max(counts),\n",
    "    1: 1 / (counts[1] / np.max(counts))\n",
    "}\n",
    "\n",
    "class_weights"
   ]
  },
  {
   "cell_type": "code",
   "execution_count": 25,
   "metadata": {},
   "outputs": [
    {
     "name": "stdout",
     "output_type": "stream",
     "text": [
      "Train on 1600 samples, validate on 400 samples\n",
      "Epoch 1/10\n",
      "1600/1600 [==============================] - 519s 324ms/sample - loss: 1.3127 - auc: 0.5271 - val_loss: 1.1244 - val_auc: 0.5103\n",
      "Epoch 2/10\n",
      "1600/1600 [==============================] - 521s 326ms/sample - loss: 1.1156 - auc: 0.6018 - val_loss: 1.1086 - val_auc: 0.6647\n",
      "Epoch 3/10\n",
      "1600/1600 [==============================] - 521s 326ms/sample - loss: 1.0956 - auc: 0.6256 - val_loss: 1.0693 - val_auc: 0.6858\n",
      "Epoch 4/10\n",
      "1600/1600 [==============================] - 528s 330ms/sample - loss: 1.0864 - auc: 0.6348 - val_loss: 1.0621 - val_auc: 0.6893\n",
      "Epoch 5/10\n",
      "1600/1600 [==============================] - 520s 325ms/sample - loss: 1.0583 - auc: 0.6622 - val_loss: 1.0695 - val_auc: 0.6962\n",
      "Epoch 6/10\n",
      "1600/1600 [==============================] - 520s 325ms/sample - loss: 1.0778 - auc: 0.6503 - val_loss: 1.0732 - val_auc: 0.7052\n",
      "Epoch 7/10\n",
      "1600/1600 [==============================] - 518s 324ms/sample - loss: 1.0576 - auc: 0.6704 - val_loss: 1.0440 - val_auc: 0.7007\n",
      "Epoch 8/10\n",
      "1600/1600 [==============================] - 514s 321ms/sample - loss: 1.0268 - auc: 0.6958 - val_loss: 1.0306 - val_auc: 0.7137\n",
      "Epoch 9/10\n",
      "1600/1600 [==============================] - 512s 320ms/sample - loss: 1.0240 - auc: 0.7080 - val_loss: 1.0139 - val_auc: 0.7069\n",
      "Epoch 10/10\n",
      "1600/1600 [==============================] - 509s 318ms/sample - loss: 0.9554 - auc: 0.7505 - val_loss: 1.0529 - val_auc: 0.6743\n"
     ]
    }
   ],
   "source": [
    "# training the model for 10 epochs\n",
    "H = model.fit(\n",
    "    X_train, \n",
    "    y_train, \n",
    "    batch_size=80, \n",
    "    epochs=10,  \n",
    "    class_weight=class_weights, \n",
    "    validation_data=(X_test, y_test),\n",
    "    verbose=1)"
   ]
  },
  {
   "cell_type": "code",
   "execution_count": 26,
   "metadata": {},
   "outputs": [
    {
     "name": "stdout",
     "output_type": "stream",
     "text": [
      "WARNING:tensorflow:From /Users/alexandernielsen/opt/anaconda3/envs/cnn/lib/python3.7/site-packages/tensorflow_core/python/ops/resource_variable_ops.py:1781: calling BaseResourceVariable.__init__ (from tensorflow.python.ops.resource_variable_ops) with constraint is deprecated and will be removed in a future version.\n",
      "Instructions for updating:\n",
      "If using Keras pass *_constraint arguments to layers.\n"
     ]
    },
    {
     "name": "stderr",
     "output_type": "stream",
     "text": [
      "2022-04-07 18:03:59.566784: W tensorflow/python/util/util.cc:299] Sets are not currently considered sequences, but this may change in the future, so consider avoiding using them.\n"
     ]
    },
    {
     "name": "stdout",
     "output_type": "stream",
     "text": [
      "INFO:tensorflow:Assets written to: melanoma_model_training_end_07_04_2022-18_03_58/assets\n"
     ]
    }
   ],
   "source": [
    "from datetime import datetime\n",
    "now = datetime.now()\n",
    "current_time = now.strftime(\"%d_%m_%Y-%H_%M_%S\")\n",
    "model.save(f'melanoma_model_training_end_{current_time}')"
   ]
  }
 ],
 "metadata": {
  "interpreter": {
   "hash": "3963f2bbd39ee5afc7bbd35e331849c8ffb99e329fbadb7db3ffdb305c5db364"
  },
  "kernelspec": {
   "display_name": "Python 3.7.13 ('cnn')",
   "language": "python",
   "name": "python3"
  },
  "language_info": {
   "codemirror_mode": {
    "name": "ipython",
    "version": 3
   },
   "file_extension": ".py",
   "mimetype": "text/x-python",
   "name": "python",
   "nbconvert_exporter": "python",
   "pygments_lexer": "ipython3",
   "version": "3.7.13"
  },
  "orig_nbformat": 4
 },
 "nbformat": 4,
 "nbformat_minor": 2
}
